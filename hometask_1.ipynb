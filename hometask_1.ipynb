{
  "nbformat": 4,
  "nbformat_minor": 0,
  "metadata": {
    "colab": {
      "name": "hometask_1",
      "provenance": [],
      "collapsed_sections": []
    },
    "kernelspec": {
      "name": "python3",
      "display_name": "Python 3"
    }
  },
  "cells": [
    {
      "cell_type": "code",
      "metadata": {
        "id": "w-DEUrJohdf6",
        "colab_type": "code",
        "outputId": "086a170b-5a25-4078-f2c2-06a0167fa44a",
        "colab": {
          "base_uri": "https://localhost:8080/",
          "height": 68
        }
      },
      "source": [
        "name = input(\"Как вас зовут? \")\n",
        "age = int(input(\"Сколько вам лет? \"))\n",
        "year = 100 - age + 2019\n",
        "year = str(year)\n",
        "print(name + \" вам исполнится 100 лет в \" + year + \" году\")\n"
      ],
      "execution_count": 0,
      "outputs": [
        {
          "output_type": "stream",
          "text": [
            "Как вас зовут? Степан\n",
            "Сколько вам лет? 20\n",
            "Степан вам исполнится 100 лет в 2099 году\n"
          ],
          "name": "stdout"
        }
      ]
    },
    {
      "cell_type": "code",
      "metadata": {
        "id": "xOw7c922dF1s",
        "colab_type": "code",
        "outputId": "b8376404-b35a-46e2-d3a0-feeb9a45b199",
        "colab": {
          "base_uri": "https://localhost:8080/",
          "height": 51
        }
      },
      "source": [
        "numb = int(input(\"Задайте число? \"))\n",
        "if numb % 2 == 0 :\n",
        "  print(\"Число чётное\")\n",
        "else : print(\"Число нечётное\")"
      ],
      "execution_count": 0,
      "outputs": [
        {
          "output_type": "stream",
          "text": [
            "Задайте число? -19\n",
            "Число нечётное\n"
          ],
          "name": "stdout"
        }
      ]
    },
    {
      "cell_type": "code",
      "metadata": {
        "id": "dsdxOL9HgU4F",
        "colab_type": "code",
        "outputId": "9bdab27b-cf1a-4994-839e-830f078c112c",
        "colab": {
          "base_uri": "https://localhost:8080/",
          "height": 34
        }
      },
      "source": [
        "import random\n",
        "\n",
        "s = \"abcdefghijklmnopqrstuvwxyz01234567890ABCDEFGHIJKLMNOPQRSTUVWXYZ!@#$%^&*()?\"\n",
        "len1 = 8\n",
        "s1 = \"ABCDEFGHIJKLMNOPQRSTUVWXYZ\"\n",
        "t = random.randint(0,7)\n",
        "p =  \"\".join(random.sample(s,t)) + \"\".join(random.sample(s1,1)) + \"\".join(random.sample(s,7-t))\n",
        "\n",
        "print(p)"
      ],
      "execution_count": 0,
      "outputs": [
        {
          "output_type": "stream",
          "text": [
            "C7CQtsV2\n"
          ],
          "name": "stdout"
        }
      ]
    },
    {
      "cell_type": "code",
      "metadata": {
        "id": "PgxYqMZPjO-e",
        "colab_type": "code",
        "colab": {
          "base_uri": "https://localhost:8080/",
          "height": 153
        },
        "outputId": "bbf54de7-91e8-43bc-b134-c273a24dd6f4"
      },
      "source": [
        "name1 = input(\"Имя первого игрока? \")\n",
        "name2 = input(\"Имя второго игрока? \")\n",
        "choices = [\"камень\", \"ножницы\", \"бумага\"]\n",
        "def game(choice1,choice2,choices):\n",
        "  if choice1 in choices: print()\n",
        "  else :\n",
        "    print(\"Невоможный выбор\")\n",
        "    return -1;\n",
        "  if choice2 in choices: print()\n",
        "  else :\n",
        "    print(\"Невозможный выбор\")\n",
        "    return -1;\n",
        "  d = {\"камень\" : 1, \"ножницы\" : 2, \"бумага\" : 3}\n",
        "  if (d[choice1] == d[choice2]): return 0\n",
        "  if  (d[choice1] - d[choice2]) in [-1,2]: return 1\n",
        "  else: return 2\n",
        "while True:\n",
        "  choice1 = input(name1 + \", что вы выбираете? \")\n",
        "  choice2 = input(name2 + \", что вы выбираете? \")\n",
        "  w = game(choice1,choice2,choices)\n",
        "  if w == 0: print(\"Ничья\")\n",
        "  if w == 1: print(name1 + \" - победитель!\")\n",
        "  if w == 2: print(name2 + \" - победитель!\")\n",
        "  if (input(\"Хотите сыграть снова? \") != \"нет\") : break\n",
        "\n",
        "\n"
      ],
      "execution_count": 2,
      "outputs": [
        {
          "output_type": "stream",
          "text": [
            "Имя первого игрока? Степан\n",
            "Имя второго игрока? Антон\n",
            "Степан, что вы выбираете? камень\n",
            "Антон, что вы выбираете? ножницы\n",
            "\n",
            "\n",
            "Степан - победитель!\n",
            "Хотите сыграть снова? нет \n"
          ],
          "name": "stdout"
        }
      ]
    },
    {
      "cell_type": "code",
      "metadata": {
        "id": "F9bdMQBRpEz_",
        "colab_type": "code",
        "outputId": "444ac916-7a21-470c-bf24-328e13cf2365",
        "colab": {
          "base_uri": "https://localhost:8080/",
          "height": 153
        }
      },
      "source": [
        "import random\n",
        "t = random.randint(1,9)\n",
        "while True:\n",
        "  p =int(input(\"Попытайтесь угадать число!\"))\n",
        "  if p == t: \n",
        "    print(\"Соверешенно верно\")\n",
        "    break\n",
        "  if p > t:\n",
        "    print(\"Слишком много\") \n",
        "  else: print(\"Слишком мало\")"
      ],
      "execution_count": 0,
      "outputs": [
        {
          "output_type": "stream",
          "text": [
            "Попытайтесь угадать число!8\n",
            "Слишком много\n",
            "Попытайтесь угадать число!5\n",
            "Слишком мало\n",
            "Попытайтесь угадать число!6\n",
            "Слишком мало\n",
            "Попытайтесь угадать число!7\n",
            "Соверешенно верно\n"
          ],
          "name": "stdout"
        }
      ]
    },
    {
      "cell_type": "code",
      "metadata": {
        "id": "M15wiRAxxoTk",
        "colab_type": "code",
        "colab": {}
      },
      "source": [
        ""
      ],
      "execution_count": 0,
      "outputs": []
    }
  ]
}