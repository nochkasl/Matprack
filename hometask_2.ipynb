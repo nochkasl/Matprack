{
  "nbformat": 4,
  "nbformat_minor": 0,
  "metadata": {
    "colab": {
      "name": "hometask_2.ipynb",
      "provenance": [],
      "collapsed_sections": []
    },
    "kernelspec": {
      "name": "python3",
      "display_name": "Python 3"
    }
  },
  "cells": [
    {
      "cell_type": "code",
      "metadata": {
        "id": "GBtCNfAR8KT9",
        "colab_type": "code",
        "colab": {}
      },
      "source": [
        "import numpy as np\n",
        "a = np.random.random((10,3))\n",
        "print(a)\n",
        "mark = (np.abs(0.5 - a).argmin(axis = 1))\n",
        "print(mark)\n",
        "for i in range(10):\n",
        "  print( a[i][mark [i]])"
      ],
      "execution_count": 0,
      "outputs": []
    },
    {
      "cell_type": "code",
      "metadata": {
        "id": "nBi0zP9yfQnw",
        "colab_type": "code",
        "outputId": "8e20fcf9-350a-4ac4-a594-e7301e73c899",
        "colab": {
          "base_uri": "https://localhost:8080/",
          "height": 136
        }
      },
      "source": [
        "import numpy as np\n",
        "a = np.random.random((6,6))\n",
        "print(a)\n",
        "mask = a.sum(axis = 1)/a.min(axis=1)\n",
        "print(mask)"
      ],
      "execution_count": 0,
      "outputs": [
        {
          "output_type": "stream",
          "text": [
            "[[0.14479003 0.35490585 0.3472675  0.52182663 0.99268253 0.69746554]\n",
            " [0.53739355 0.14469127 0.37141382 0.6176925  0.52204994 0.06208617]\n",
            " [0.55044825 0.3387196  0.41576655 0.15386904 0.92497139 0.53079099]\n",
            " [0.45960981 0.94569666 0.30411098 0.92492185 0.85477844 0.23307999]\n",
            " [0.34635755 0.75509537 0.31805753 0.05350428 0.26245849 0.88703171]\n",
            " [0.88251214 0.60222055 0.459266   0.54179498 0.90511499 0.15453575]]\n",
            "[21.12671781 36.32576013 18.94185958 15.96961505 49.01485963 22.94255099]\n"
          ],
          "name": "stdout"
        }
      ]
    },
    {
      "cell_type": "code",
      "metadata": {
        "id": "8DrZ2-35EwyP",
        "colab_type": "code",
        "outputId": "757aa454-5bc3-496b-9c4c-5b291688fd70",
        "colab": {
          "base_uri": "https://localhost:8080/",
          "height": 34
        }
      },
      "source": [
        "import numpy as np\n",
        "x = np.array([6, 2, 0, 3, 0, 0, 5, 7, 0])\n",
        "max(x[i] for i in range(1, len(x)) if x[i-1] == 0)"
      ],
      "execution_count": 0,
      "outputs": [
        {
          "output_type": "execute_result",
          "data": {
            "text/plain": [
              "5"
            ]
          },
          "metadata": {
            "tags": []
          },
          "execution_count": 4
        }
      ]
    },
    {
      "cell_type": "code",
      "metadata": {
        "id": "cTDhpI4hGh5x",
        "colab_type": "code",
        "outputId": "63ce0628-ffed-46b4-8284-97402bcc3657",
        "colab": {
          "base_uri": "https://localhost:8080/",
          "height": 34
        }
      },
      "source": [
        "import numpy as np\n",
        "x = np.ones(10)\n",
        "y = np.array([0, 1, 2, 3, 5, 5, 5, 8])\n",
        "for i in y:\n",
        "  x[i] += 1\n",
        "print(x)"
      ],
      "execution_count": 0,
      "outputs": [
        {
          "output_type": "stream",
          "text": [
            "[2. 2. 2. 2. 1. 4. 1. 1. 2. 1.]\n"
          ],
          "name": "stdout"
        }
      ]
    },
    {
      "cell_type": "code",
      "metadata": {
        "id": "AgmsZcTAI6nk",
        "colab_type": "code",
        "outputId": "06395ea7-4ba6-4f00-90b9-b03ca3d5ee7a",
        "colab": {
          "base_uri": "https://localhost:8080/",
          "height": 34
        }
      },
      "source": [
        "import numpy as np\n",
        "a = np.arange(16).reshape(4, 4)\n",
        "d = { i : [a[k][l] for k in range(4) for l in range(4) if k+l ==i] for i in range(7)}\n",
        "print(d)"
      ],
      "execution_count": 0,
      "outputs": [
        {
          "output_type": "stream",
          "text": [
            "{0: [0], 1: [1, 4], 2: [2, 5, 8], 3: [3, 6, 9, 12], 4: [7, 10, 13], 5: [11, 14], 6: [15]}\n"
          ],
          "name": "stdout"
        }
      ]
    },
    {
      "cell_type": "code",
      "metadata": {
        "id": "7xpSBLuLlj25",
        "colab_type": "code",
        "outputId": "69a953ca-0d85-43b9-bd75-aa89a2c21a72",
        "colab": {
          "base_uri": "https://localhost:8080/",
          "height": 281
        }
      },
      "source": [
        "import numpy as np\n",
        "import scipy.cluster\n",
        "import matplotlib.pyplot as plt\n",
        "    \n",
        "    \n",
        "ata = np.loadtxt('http://www.stat.cmu.edu/~larry/all-of-statistics/=data/faithful.dat', skiprows=26)[:, 1:]\n",
        "data = (data - data.mean(axis=0)) / data.std(axis=0)\n",
        "\n",
        "def get_labels(pts, centroids):\n",
        "    \n",
        "    dist = np.hstack([np.linalg.norm(pts - centroid, axis=1).reshape(-1, 1) for centroid in centroids])\n",
        "    return np.argmin(dist, axis=1)\n",
        "\n",
        "def normtotal(obs, centroids, labels):\n",
        "    temp = 0\n",
        "    for i in range(centroids.shape[0]):\n",
        "        temp += abs(np.linalg.norm(obs[i==labels] - centroids[i], axis = 1).sum())\n",
        "    return temp\n",
        "def kmeans(obs, k_or_guess, iter = 20, thresh = 1e-05):\n",
        "    centroids = np.random.random((k_or_guess, obs.shape[1]))\n",
        "    labels = get_labels(obs, centroids)\n",
        "    norminitial = normtotal(obs, centroids, labels)\n",
        "    minnorm = norminitial\n",
        "    newcetroids = centroids\n",
        "    \n",
        "    for i in range(iter):\n",
        "        normstop = norminitial\n",
        "        centroids = np.array([obs[labels == i].mean(axis = 0) for i in range (k_or_guess)])\n",
        "        labels = get_labels(obs, centroids)\n",
        "        norminitial = normtotal(obs, centroids, labels)\n",
        "        if norminitial < minnorm:\n",
        "            newcetroids = centroids\n",
        "            minnorm = norminitial\n",
        "        if abs(norminitial - normstop) < thresh: \n",
        "            break\n",
        "            \n",
        "    return newcetroids\n",
        "centroids = kmeans(data, 2)\n",
        "labels = get_labels(data, centroids)\n",
        "plt.scatter(*data.T, c=np.where(labels, \"aquamarine\",\"lightpink\"), s=20)\n",
        "plt.scatter(*centroids.T, c=[\"deeppink\", \"darkturquoise\"], s=95, marker='*')\n",
        "plt.title('Clasters')\n",
        "plt.show()\n",
        "\n",
        "\n",
        "\n",
        "\n",
        "\n",
        "\n"
      ],
      "execution_count": 10,
      "outputs": [
        {
          "output_type": "display_data",
          "data": {
            "image/png": "[encoded data removed]",
            "text/plain": [
              "<Figure size 432x288 with 1 Axes>"
            ]
          },
          "metadata": {
            "tags": []
          }
        }
      ]
    },
    {
      "cell_type": "code",
      "metadata": {
        "id": "5457antjNxrT",
        "colab_type": "code",
        "colab": {}
      },
      "source": [
        ""
      ],
      "execution_count": 0,
      "outputs": []
    }
  ]
}