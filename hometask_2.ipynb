{
  "nbformat": 4,
  "nbformat_minor": 0,
  "metadata": {
    "colab": {
      "name": "hometask_2.ipynb",
      "provenance": [],
      "collapsed_sections": []
    },
    "kernelspec": {
      "name": "python3",
      "display_name": "Python 3"
    }
  },
  "cells": [
    {
      "cell_type": "code",
      "metadata": {
        "id": "GBtCNfAR8KT9",
        "colab_type": "code",
        "outputId": "ccde5376-d3f4-4d1e-99ee-b7fedd9d277b",
        "colab": {
          "base_uri": "https://localhost:8080/",
          "height": 357
        }
      },
      "source": [
        "import numpy as np\n",
        "a = np.random.random((10,3))\n",
        "print(a)\n",
        "mark = (np.abs(0.5 - a).argmin(axis = 1))\n",
        "#print(mark)\n",
        "for i in range(10):\n",
        "  print( a[i][mark [i]])"
      ],
      "execution_count": 0,
      "outputs": [
        {
          "output_type": "stream",
          "text": [
            "[[0.94810349 0.1994044  0.27283679]\n",
            " [0.10213582 0.20261491 0.91324547]\n",
            " [0.53529787 0.30599741 0.23872306]\n",
            " [0.66821376 0.50412394 0.68481454]\n",
            " [0.15438418 0.40039492 0.15451215]\n",
            " [0.16419138 0.27478628 0.53740318]\n",
            " [0.90577933 0.90992496 0.23088361]\n",
            " [0.61764004 0.79834932 0.43029914]\n",
            " [0.88415917 0.00923155 0.92511359]\n",
            " [0.40408037 0.3411619  0.56502908]]\n",
            "0.27283678826323365\n",
            "0.20261490936507387\n",
            "0.5352978673787407\n",
            "0.5041239405090489\n",
            "0.400394917506384\n",
            "0.5374031821618623\n",
            "0.23088360734306423\n",
            "0.4302991382932354\n",
            "0.8841591712207489\n",
            "0.5650290831426931\n"
          ],
          "name": "stdout"
        }
      ]
    },
    {
      "cell_type": "code",
      "metadata": {
        "id": "nBi0zP9yfQnw",
        "colab_type": "code",
        "outputId": "e8fbd071-c056-42d4-e860-96dab242423c",
        "colab": {
          "base_uri": "https://localhost:8080/",
          "height": 153
        }
      },
      "source": [
        "|import numpy as np\n",
        "a = np.random.random((6,6))\n",
        "print(a)\n",
        "mask = a.sum(axis = 1)/a.min(axis=1)\n",
        "print(mask)"
      ],
      "execution_count": 0,
      "outputs": [
        {
          "output_type": "stream",
          "text": [
            "[[0.99664622 0.36258757 0.46155228 0.05226052 0.53398502 0.85953701]\n",
            " [0.26151945 0.43553686 0.40693787 0.78434225 0.2751278  0.77297221]\n",
            " [0.79238327 0.62373408 0.55803373 0.01586872 0.31165393 0.16047894]\n",
            " [0.87842751 0.37384166 0.36209164 0.13282587 0.31523505 0.39237955]\n",
            " [0.19274656 0.0533383  0.8308115  0.25967404 0.07230403 0.83328731]\n",
            " [0.06631508 0.30190665 0.34319705 0.28184693 0.98807411 0.9298355 ]]\n",
            "[ 62.50547685  11.22836742 155.15763864  18.48134945  42.03661892\n",
            "  43.89914455]\n"
          ],
          "name": "stdout"
        }
      ]
    },
    {
      "cell_type": "code",
      "metadata": {
        "id": "8DrZ2-35EwyP",
        "colab_type": "code",
        "outputId": "4012070a-22e5-48a6-fe0a-53d0e2009450",
        "colab": {
          "base_uri": "https://localhost:8080/",
          "height": 34
        }
      },
      "source": [
        "import numpy as np\n",
        "x = np.array([6, 2, 0, 3, 0, 0, 5, 7, 0])\n",
        "max(x[i] for i in range(1, len(x)) if x[i-1] == 0)"
      ],
      "execution_count": 0,
      "outputs": [
        {
          "output_type": "execute_result",
          "data": {
            "text/plain": [
              "5"
            ]
          },
          "metadata": {
            "tags": []
          },
          "execution_count": 3
        }
      ]
    },
    {
      "cell_type": "code",
      "metadata": {
        "id": "cTDhpI4hGh5x",
        "colab_type": "code",
        "outputId": "499d3fc6-8f00-4d33-ad19-72356fa32218",
        "colab": {
          "base_uri": "https://localhost:8080/",
          "height": 34
        }
      },
      "source": [
        "import numpy as np\n",
        "x = np.ones(10)\n",
        "y = np.array([0, 1, 2, 3, 5, 5, 5, 8])\n",
        "for i in y:\n",
        "  x[i] += 1\n",
        "print(x)"
      ],
      "execution_count": 0,
      "outputs": [
        {
          "output_type": "stream",
          "text": [
            "[2. 2. 2. 2. 1. 4. 1. 1. 2. 1.]\n"
          ],
          "name": "stdout"
        }
      ]
    },
    {
      "cell_type": "code",
      "metadata": {
        "id": "AgmsZcTAI6nk",
        "colab_type": "code",
        "outputId": "06395ea7-4ba6-4f00-90b9-b03ca3d5ee7a",
        "colab": {
          "base_uri": "https://localhost:8080/",
          "height": 34
        }
      },
      "source": [
        "import numpy as np\n",
        "a = np.arange(16).reshape(4, 4)\n",
        "d = { i : [a[k][l] for k in range(4) for l in range(4) if k+l ==i] for i in range(7)}\n",
        "print(d)"
      ],
      "execution_count": 0,
      "outputs": [
        {
          "output_type": "stream",
          "text": [
            "{0: [0], 1: [1, 4], 2: [2, 5, 8], 3: [3, 6, 9, 12], 4: [7, 10, 13], 5: [11, 14], 6: [15]}\n"
          ],
          "name": "stdout"
        }
      ]
    },
    {
      "cell_type": "code",
      "metadata": {
        "id": "7xpSBLuLlj25",
        "colab_type": "code",
        "outputId": "cbd46592-01af-4ae3-d0d5-17bbb9b107ff",
        "colab": {
          "base_uri": "https://localhost:8080/",
          "height": 281
        }
      },
      "source": [
        "import numpy as np\n",
        "import scipy.cluster\n",
        "import matplotlib.pyplot as plt\n",
        "    \n",
        "    \n",
        "data = np.loadtxt('http://www.stat.cmu.edu/~larry/all-of-statistics/=data/faithful.dat', skiprows=26)[:, 1:]\n",
        "data = (data - data.mean(axis=0)) / data.std(axis=0)\n",
        "\n",
        "def get_labels(pts, centroids):\n",
        "    \n",
        "    dist = np.hstack([np.linalg.norm(pts - centroid, axis=1).reshape(-1, 1) for centroid in centroids])\n",
        "    return np.argmin(dist, axis=1)\n",
        "\n",
        "def normtotal(obs, centroids, labels):\n",
        "    temp = 0\n",
        "    for i in range(centroids.shape[0]):\n",
        "        temp += abs(np.linalg.norm(obs[i==labels] - centroids[i], axis = 1).sum())\n",
        "    return temp\n",
        "def kmeans(obs, k_or_guess, iter = 20, thresh = 1e-05):\n",
        "    centroids = np.random.random((k_or_guess, obs.shape[1]))\n",
        "    labels = get_labels(obs, centroids)\n",
        "    norminitial = normtotal(obs, centroids, labels)\n",
        "    minnorm = norminitial\n",
        "    newcetroids = centroids\n",
        "    \n",
        "    for i in range(iter):\n",
        "        normstop = norminitial\n",
        "        centroids = np.array([obs[labels == i].mean(axis = 0) for i in range (k_or_guess)])\n",
        "        labels = get_labels(obs, centroids)\n",
        "        norminitial = normtotal(obs, centroids, labels)\n",
        "        if norminitial < minnorm:\n",
        "            newcetroids = centroids\n",
        "            minnorm = norminitial\n",
        "        if abs(norminitial - normstop) < thresh: \n",
        "            break\n",
        "            \n",
        "    return newcetroids\n",
        "centroids = kmeans(data, 2)\n",
        "labels = get_labels(data, centroids)\n",
        "plt.scatter(*data.T, c=np.where(labels, \"aquamarine\",\"lightpink\"), s=20)\n",
        "plt.scatter(*centroids.T, c=[\"deeppink\", \"darkturquoise\"], s=95, marker='*')\n",
        "plt.title('Clasters')\n",
        "plt.show()\n",
        "\n",
        "\n",
        "\n"
      ],
      "execution_count": 5,
      "outputs": [
        {
          "output_type": "display_data",
          "data": {
            "image/png": "[encoded data removed]",
            "text/plain": [
              "<Figure size 432x288 with 1 Axes>"
            ]
          },
          "metadata": {
            "tags": []
          }
        }
      ]
    },
    {
      "cell_type": "code",
      "metadata": {
        "id": "5457antjNxrT",
        "colab_type": "code",
        "colab": {}
      },
      "source": [
        ""
      ],
      "execution_count": 0,
      "outputs": []
    }
  ]
}