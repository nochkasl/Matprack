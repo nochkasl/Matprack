{
  "nbformat": 4,
  "nbformat_minor": 0,
  "metadata": {
    "kernelspec": {
      "display_name": "Python 3",
      "language": "python",
      "name": "python3"
    },
    "language_info": {
      "codemirror_mode": {
        "name": "ipython",
        "version": 3
      },
      "file_extension": ".py",
      "mimetype": "text/x-python",
      "name": "python",
      "nbconvert_exporter": "python",
      "pygments_lexer": "ipython3",
      "version": "3.6.5"
    },
    "colab": {
      "name": "hometask_7 (1).ipynb",
      "provenance": [],
      "collapsed_sections": []
    }
  },
  "cells": [
    {
      "cell_type": "markdown",
      "metadata": {
        "id": "elmONJBjB1wZ",
        "colab_type": "text"
      },
      "source": [
        "# Topic Modeling and Gibbs Sampling"
      ]
    },
    {
      "cell_type": "markdown",
      "metadata": {
        "id": "ke8yIh3yC-yw",
        "colab_type": "text"
      },
      "source": [
        "Задача: описать текст через распределение весов по некоторому фиксированному набору топиков (тегов). Например, для набора тегов Политика, Военные сражения, Спорт, Интернет, Драма представить роман \"Война и мир\" как вектор (0.3, 0.2, 0, 0, 0.5), а статью в газете про допинг в велоспорте как вектор (0.1, 0, 0.7, 0, 0.2).\n",
        "\n",
        "Для чего, например, это нужно: имея векторное представление для текстов, тексты можно сравнивать, рекомендовать похожие.\n",
        "\n",
        "Условие: даны только набор текстов и количество тем."
      ]
    },
    {
      "cell_type": "markdown",
      "metadata": {
        "id": "XJdIgvb5B1wd",
        "colab_type": "text"
      },
      "source": [
        "## Немного теории"
      ]
    },
    {
      "cell_type": "markdown",
      "metadata": {
        "id": "mipLvBaZB1we",
        "colab_type": "text"
      },
      "source": [
        "Будем представлять текст как неупорядоченный набор слов (Bag-of-words model). Предположим, что имеется K тегов и для каждого тега выбрано распределение $\\phi_k$ над списком всевозможных слов (словарем из N слов). По сути, каждое $\\phi_k$ - это вектор длины N из неотрицательных величин, в сумме дающих 1. Вектора $\\phi_k$ независимы и моделируются распредеделением Дирихле $Dir(\\beta)$. Теперь, чтобы собрать текст d из $n$ слов, будем действовать по следующей схеме:\n",
        "\n",
        "\n",
        "* выберем распредление для тегов $\\theta_d$. Вновь, $\\theta_d$ - это вектор длины K из неотрицательных величин, в сумме дающих 1. Поэтому естественно брать $\\theta_d \\sim Dir(\\theta | \\alpha)$\n",
        "\n",
        "* Для i от 1 до n:\n",
        "  * выберем тег $z_i$ согласно распределению $\\theta_d$\n",
        "  * выберем слово $w_i$ из распределения для данного тега, т.е. $w_i \\sim \\phi_{z_i}$\n",
        "  * добавляем слово $w_i$ в текст.\n",
        "\n",
        "Полученная модель называется моделью LDA (Latent Dirichlet Allocation). Описанная  схема задает совместное распределение скрытых и наблюдаемых параметров по всем текстам корпуса размера M в виде:\n",
        "\n",
        "\n",
        "$p(\\textbf{w}, \\textbf{z}, \\theta, \\phi | \\alpha, \\beta) = Dir(\\theta | \\alpha) Dir(\\phi|\\beta)Cat(\\textbf{z}|\\theta)Cat(\\textbf{w}|\\phi_z)$.\n",
        "\n",
        "Здесь $\\textbf{w}$ и $\\textbf{z}$ обозначают вектора слов и тегов по всем текстам, $\\theta$ - набор из $\\theta_d$ для каждого документа (матрица $M\\times K$), $\\phi$ - набор из $\\phi_k$ для каждого тега (матрица $K\\times N$).\n"
      ]
    },
    {
      "cell_type": "markdown",
      "metadata": {
        "id": "D9yKUGWnXCYm",
        "colab_type": "text"
      },
      "source": [
        "![img](https://www.researchgate.net/publication/336065245/figure/fig1/AS:807371718815752@1569503826964/Latent-Dirichlet-allocation-LDA-process-and-its-two-outputs-a-LDA-document.ppm)"
      ]
    },
    {
      "cell_type": "markdown",
      "metadata": {
        "id": "hiXKW7NQWeO8",
        "colab_type": "text"
      },
      "source": [
        "Наша задача - восстановить распределение $p(\\textbf{z}, \\theta, \\phi | \\textbf{w}, \\alpha, \\beta)$.\n",
        "\n",
        "\n",
        "Немного упростим жизнь, и поставим себе задачей восстановить распределение $p(\\textbf{z} | \\textbf{w}, \\alpha, \\beta) = \\int\\int p(\\textbf{z}, \\theta, \\phi | \\textbf{w}, \\alpha, \\beta)\\textrm{d}\\theta\\textrm{d}\\phi$.\n",
        "\n",
        "В этот момент на помощь приходить алгоритм Gibbs Sampling. Напомним, для оценки набора парамеров $\\textbf{z} = (z_1, z_2, ..., z_m)$ используется схема:\n",
        "\n",
        "$z_i^{(t)} \\sim p(z_i^{(t)}\\ | \\ z_1=z_1^{t}, ..., z_{i-1}=z_{i-1}^{t},\n",
        "z_{i+1}=z_{i+1}^{t-1}, z_{m}=z_{m}^{t-1})$."
      ]
    },
    {
      "cell_type": "markdown",
      "metadata": {
        "id": "aQeReuG_aDI7",
        "colab_type": "text"
      },
      "source": [
        "Условные распределения выводятся так. Сначала замечаем, что\n",
        "\n",
        "$p(z_i|\\textbf{z}_{\\hat{i}}, \\textbf{w}, \\alpha, \\beta) = \\frac{p(z_i,\\textbf{z}_{\\hat{i}}, \\textbf{w}| \\alpha, \\beta)}{p(\\textbf{z}_{\\hat{i}}, \\textbf{w}| \\alpha, \\beta)}  = \\frac{p(\\textbf{z}, \\textbf{w}| \\alpha, \\beta)}{p(\\textbf{z}_{\\hat{i}}, \\textbf{w}_{\\hat{i}}| \\alpha, \\beta)  p(w_i|\\alpha, \\beta)}$.\n",
        "\n",
        "Здесь $\\textbf{z}_{\\hat{i}}$, $\\textbf{w}_{\\hat{i}}$ - вектора без $i$-oй копмоненты. "
      ]
    },
    {
      "cell_type": "markdown",
      "metadata": {
        "id": "yA0r2c_ob2c9",
        "colab_type": "text"
      },
      "source": [
        "Далее расписываем:\n",
        "\n",
        "$p(\\textbf{z}, \\textbf{w}| \\alpha, \\beta) = \\int\\int p(\\textbf{z}, \\textbf{w}, \\theta, \\phi| \\alpha, \\beta)\\textrm{d}\\theta\\textrm{d}\\phi = \\int\\int Dir(\\theta | \\alpha) Dir(\\phi|\\beta)Cat(\\textbf{z}|\\theta)Cat(\\textbf{w}|\\phi_z)\\textrm{d}\\theta\\textrm{d}\\phi = \n",
        "\\int Dir(\\theta | \\alpha) Cat(\\textbf{z}|\\theta)\\textrm{d}\\theta \\int Dir(\\phi|\\beta)Cat(\\textbf{w}|\\phi_z)\\textrm{d}\\phi$\n",
        "\n",
        "и обнаруживаем, что оба интеграла в последнем выражении вычисляются аналитически. Для примера первый:\n",
        "\n",
        "$\\int Dir(\\theta | \\alpha) Cat(\\textbf{z}|\\theta)\\textrm{d}\\theta = \\prod\\limits_d \\int Dir(\\theta_d | \\alpha) Cat(\\textbf{z}_d|\\theta_d)\\textrm{d}\\theta_d = \\prod\\limits_d \\int \\frac{1}{B(\\alpha)}\\prod\\limits_k \\theta_{d, k}^{\\alpha-1}\\prod\\limits_i \\theta_{d, z_i}\\textrm{d}\\theta_d = \\prod\\limits_d\\frac{1}{B(\\alpha)}\\int\\prod\\limits_k \\theta_{d, k}^{n_{d, k} + \\alpha - 1}\\textrm{d}\\theta_d = \\prod\\limits_d \\frac{B(n_{d,\\cdot} + \\alpha)}{B(\\alpha)}$.\n",
        "\n",
        "Здесь  $n_{d,k}$ - количество тэгов $k$ в тексте $d$, $n_{d,\\cdot}$ - вектор длины $K$ из этих величин.\n",
        "\n",
        "Аналогично, второй интеграл \n",
        "$\\int Dir(\\phi|\\beta)Cat(\\textbf{w}|\\phi_z)\\textrm{d}\\phi = \\prod\\limits_k \\frac{B(n_{k,\\cdot} + \\beta)}{B(\\beta)}$,\n",
        "\n",
        "где $n_{k,\\cdot}$ - вектор длины $N$ встречаемости слов внутри тэга $k$.\n",
        "\n",
        "Получаем: \n",
        "\n",
        "$p(\\textbf{z}, \\textbf{w}| \\alpha, \\beta) = \\prod\\limits_d \\frac{B(n_{d,\\cdot} + \\alpha)}{B(\\alpha)} \\prod\\limits_k \\frac{B(n_{k,\\cdot} + \\beta)}{B(\\beta)}$.\n",
        "\n",
        "Теперь\n",
        "$p(z_i|\\textbf{z}_{\\hat{i}}, \\textbf{w}, \\alpha, \\beta) \\propto \\prod\\limits_d \\frac{B(n_{d,\\cdot} + \\alpha)}{B(n_{d,\\cdot}^{\\hat{i}} + \\alpha)} \\prod\\limits_k \\frac{B(n_{k,\\cdot} + \\beta)}{B(n_{k,\\cdot}^{\\hat{i}} + \\beta)}$.\n",
        "\n",
        "Знак $\\propto$ означает пропорциональность с точностью до общего множителя $p(w_i|\\alpha, \\beta)$. Векторы $n_{d,\\cdot}^{\\hat{i}}$ и $n_{k,\\cdot}^{\\hat{i}}$ получены из векторов $n_{d,\\cdot}$ и $n_{k,\\cdot}$ после выбрасывания $z_i$. \n",
        "\n",
        "Выражение упрощается дальше, расписывая бета-функцию через гамма-функции. Напомним,\n",
        "$B(x_1, ..., x_m) = \\frac{\\Gamma(x_1)\\cdot...\\cdot\\Gamma(x_m)}{\\Gamma(x_1 + ... + x_m)}$, а также $\\Gamma(n) = (n-1)\\Gamma(n-1)$. Получим:\n",
        "\n",
        "$p(z_i=k |\\textbf{z}_{\\hat{i}}, \\textbf{w}, \\alpha, \\beta) \\propto (n_{d_i, k}^{\\hat{i}} + \\alpha_k) \\frac{n_{k, w_i}^{\\hat{i}} + \\beta_{w_i}}{\\sum\\limits_{w}(n_{k, w}^{\\hat{i}} + \\beta_{w})}$.\n"
      ]
    },
    {
      "cell_type": "markdown",
      "metadata": {
        "id": "NiYEQ_IkZUim",
        "colab_type": "text"
      },
      "source": [
        "С этого места можно полностью собрать алгоритм моделирования плотности $p(\\textbf{z}| \\textbf{w}, \\alpha, \\beta)$. Введем  обозначение $n_k$ - количество слов, отнесенных к тегу $k$, $W$ - общее количество слов в корпусе, $\\beta_{sum} = \\sum\\limits_w\\beta_w$\n",
        "\n",
        "Алгоритм:\n",
        "\n",
        "* заведем счетчики $n_{k, w}$, $n_{d, k}$, $n_k$\n",
        "* случайным образом расставим теги словам, обновим счетчики $n_{k, w}$, $n_{d, k}$, $n_k$\n",
        "* пока не сойдемся к стационарному режиму:\n",
        "  * для каждого $i$ от 1 до $W$:\n",
        "      * для каждого $k$ от 1 до $K$:\n",
        "        * $I = I\\{z_i = k\\}$ (индикатор)\n",
        "        * вычисляем $p_k = (n_{d_i, k} + \\alpha_k - I) \\frac{n_{k, w_i} + \\beta_{w_i} - I}{n_k + \\beta_{sum} - I}$\n",
        "      * сэмплим новый $z_i$ из полученного распределения $(p_1, ..., p_K)$\n",
        "      * обновляем счетчики для учета обновленого значения $z_i$\n",
        "\n",
        "На практике удобно реализовавать так:\n",
        "\n",
        "* заведем счетчики $n_{k, w}$, $n_{d, k}$, $n_k$, заполненные нулями\n",
        "* случайным образом расставим теги словам, обновим счетчики $n_{k, w}$, $n_{d, k}$, $n_k$\n",
        "* пока не сойдемся к стационарному режиму:\n",
        "  * для каждого $i$ от 1 до $W$:\n",
        "      * $n_{d_i, z_i} \\mathrel{-}= 1$, $n_{z_i, w_i} \\mathrel{-}= 1$, $n_{z_i} \\mathrel{-}= 1$\n",
        "      * для каждого $k$ от 1 до $K$:\n",
        "        * вычисляем $p_k = (n_{d, k} + \\alpha_k) \\frac{n_{k, w_i} + \\beta_{w_i}}{n_k + \\beta_{sum}}$\n",
        "      * сэмплим новый $z_i$ из полученного распределения $(p_1, ..., p_K)$\n",
        "      * $n_{d_i, z_i} \\mathrel{+}= 1$, $n_{z_i, w_i} \\mathrel{+}= 1$, $n_{z_i} \\mathrel{+}= 1$\n",
        "\n",
        "\n",
        "\n"
      ]
    },
    {
      "cell_type": "markdown",
      "metadata": {
        "id": "eaV85RF1gd6l",
        "colab_type": "text"
      },
      "source": [
        "Восстановив распредление для $\\textbf{z}$, можем оценить $\\theta$ и $\\phi$, о которых мы ненадолго забыли. Оценить можно, например, через матожидание по апостериорным распределениям. Получите формулы самостоятельно!"
      ]
    },
    {
      "cell_type": "markdown",
      "metadata": {
        "id": "K13WQakft3kk",
        "colab_type": "text"
      },
      "source": [
        "Литература:\n",
        "\n",
        "http://u.cs.biu.ac.il/~89-680/darling-lda.pdf\n",
        "\n",
        "https://www.cs.cmu.edu/~mgormley/courses/10701-f16/slides/lecture20-topic-models.pdf"
      ]
    },
    {
      "cell_type": "markdown",
      "metadata": {
        "id": "S1M8TVaPiIwd",
        "colab_type": "text"
      },
      "source": [
        "Перейдем к практике."
      ]
    },
    {
      "cell_type": "markdown",
      "metadata": {
        "id": "KKGHWSSiB1we",
        "colab_type": "text"
      },
      "source": [
        "## Датасет\n",
        "\n",
        "Возьмем популярный датасет [20 Newsgroups](http://qwone.com/~jason/20Newsgroups/), встроенный в пакет ```sklearn```. Датасет состоит из ~20К текстов, классифицированных на 20 категорий. Датасет разбит на ```train``` и ```test```. Для загрузки используем  модуль ```fetch_20newsgroups```, в параметрах указать, что мета информацию о тексте загружать не нужно:"
      ]
    },
    {
      "cell_type": "code",
      "metadata": {
        "id": "ghK1srgpB1wf",
        "colab_type": "code",
        "colab": {
          "base_uri": "https://localhost:8080/",
          "height": 50
        },
        "outputId": "5802fda2-f707-4a18-91a2-104f264ec486"
      },
      "source": [
        "import numpy as np\n",
        "from sklearn.datasets import fetch_20newsgroups\n",
        "\n",
        "newsgroups_train = fetch_20newsgroups(subset='train', remove=('headers', 'footers', 'quotes'))"
      ],
      "execution_count": 1,
      "outputs": [
        {
          "output_type": "stream",
          "text": [
            "Downloading 20news dataset. This may take a few minutes.\n",
            "Downloading dataset from https://ndownloader.figshare.com/files/5975967 (14 MB)\n"
          ],
          "name": "stderr"
        }
      ]
    },
    {
      "cell_type": "markdown",
      "metadata": {
        "id": "_BSEchmRB1wh",
        "colab_type": "text"
      },
      "source": [
        "Выведем список категорий текстов:"
      ]
    },
    {
      "cell_type": "code",
      "metadata": {
        "id": "lR3knXluB1wi",
        "colab_type": "code",
        "outputId": "52392649-4f47-440e-b59a-5e5a8b9a80e4",
        "colab": {
          "base_uri": "https://localhost:8080/",
          "height": 353
        }
      },
      "source": [
        "newsgroups_train.target_names"
      ],
      "execution_count": 2,
      "outputs": [
        {
          "output_type": "execute_result",
          "data": {
            "text/plain": [
              "['alt.atheism',\n",
              " 'comp.graphics',\n",
              " 'comp.os.ms-windows.misc',\n",
              " 'comp.sys.ibm.pc.hardware',\n",
              " 'comp.sys.mac.hardware',\n",
              " 'comp.windows.x',\n",
              " 'misc.forsale',\n",
              " 'rec.autos',\n",
              " 'rec.motorcycles',\n",
              " 'rec.sport.baseball',\n",
              " 'rec.sport.hockey',\n",
              " 'sci.crypt',\n",
              " 'sci.electronics',\n",
              " 'sci.med',\n",
              " 'sci.space',\n",
              " 'soc.religion.christian',\n",
              " 'talk.politics.guns',\n",
              " 'talk.politics.mideast',\n",
              " 'talk.politics.misc',\n",
              " 'talk.religion.misc']"
            ]
          },
          "metadata": {
            "tags": []
          },
          "execution_count": 2
        }
      ]
    },
    {
      "cell_type": "markdown",
      "metadata": {
        "id": "unhqlZciB1wl",
        "colab_type": "text"
      },
      "source": [
        "Атрибут ```traget``` хранит номера категорий для текстов из обучающей выборки:"
      ]
    },
    {
      "cell_type": "code",
      "metadata": {
        "id": "PNjAq0D4B1wl",
        "colab_type": "code",
        "outputId": "73662f59-4d9e-4113-956f-18eba97198a5",
        "colab": {
          "base_uri": "https://localhost:8080/",
          "height": 34
        }
      },
      "source": [
        "newsgroups_train.target[:10]"
      ],
      "execution_count": 3,
      "outputs": [
        {
          "output_type": "execute_result",
          "data": {
            "text/plain": [
              "array([ 7,  4,  4,  1, 14, 16, 13,  3,  2,  4])"
            ]
          },
          "metadata": {
            "tags": []
          },
          "execution_count": 3
        }
      ]
    },
    {
      "cell_type": "markdown",
      "metadata": {
        "id": "OjzuWGdBB1wp",
        "colab_type": "text"
      },
      "source": [
        "Доступ к самим текстам через атрибут ```data```. Выведем текст и категорию случайного примера из обучающего датасета:"
      ]
    },
    {
      "cell_type": "code",
      "metadata": {
        "id": "etlhxjk0B1wq",
        "colab_type": "code",
        "outputId": "e065d6f8-19f1-4ddd-e0bb-e9ae5f5ff958",
        "colab": {
          "base_uri": "https://localhost:8080/",
          "height": 252
        }
      },
      "source": [
        "n = 854\n",
        "print('Topic = {0}\\n'.format(newsgroups_train.target_names[newsgroups_train.target[n]]))\n",
        "print(newsgroups_train.data[n])"
      ],
      "execution_count": 4,
      "outputs": [
        {
          "output_type": "stream",
          "text": [
            "Topic = rec.motorcycles\n",
            "\n",
            "hey... I'm pretty new to the wonderful world of motorcycles... I just\n",
            "bought\n",
            "a used 81 Kaw KZ650 CSR from a friend.... I was just wondering what kind of\n",
            "\n",
            "saddle bags I could get for it (since I know nothing about them)  are there\n",
            "bags for the gas tank?  how much would some cost, and how much do they\n",
            "hold?\n",
            "thanks for your advice!!!  I may be new to riding, but I love it\n",
            "already!!!!\n",
            ":)\n",
            "\n",
            "\n"
          ],
          "name": "stdout"
        }
      ]
    },
    {
      "cell_type": "markdown",
      "metadata": {
        "id": "fLheZ8pTB1wx",
        "colab_type": "text"
      },
      "source": [
        "## Векторное представление текста\n",
        "\n",
        "Представим текст как вектор индикаторов вхождений слов из некоторого словаря в текст. Это простейшая модель BOF. \n",
        "\n",
        "Сформируем словарь на основе нашего набора текстов. Для этого используем модуль ```CountVectorizer```:"
      ]
    },
    {
      "cell_type": "code",
      "metadata": {
        "id": "-eXBAq3SB1wy",
        "colab_type": "code",
        "outputId": "f04ccdc2-4e1a-4e09-ead2-0a061d7f4c15",
        "colab": {
          "base_uri": "https://localhost:8080/",
          "height": 252
        }
      },
      "source": [
        "\n",
        "from sklearn.feature_extraction.text import CountVectorizer\n",
        "from sklearn.feature_extraction.stop_words import ENGLISH_STOP_WORDS\n",
        "\n",
        "vectorizer = CountVectorizer(lowercase=True, stop_words=ENGLISH_STOP_WORDS,\n",
        "                             analyzer='word', binary=True, min_df=10, max_df=0.04)\n",
        "vectorizer.fit(newsgroups_train.data)"
      ],
      "execution_count": 5,
      "outputs": [
        {
          "output_type": "execute_result",
          "data": {
            "text/plain": [
              "CountVectorizer(analyzer='word', binary=True, decode_error='strict',\n",
              "                dtype=<class 'numpy.int64'>, encoding='utf-8', input='content',\n",
              "                lowercase=True, max_df=0.04, max_features=None, min_df=10,\n",
              "                ngram_range=(1, 1), preprocessor=None,\n",
              "                stop_words=frozenset({'a', 'about', 'above', 'across', 'after',\n",
              "                                      'afterwards', 'again', 'against', 'all',\n",
              "                                      'almost', 'alone', 'along', 'already',\n",
              "                                      'also', 'although', 'always', 'am',\n",
              "                                      'among', 'amongst', 'amoungst', 'amount',\n",
              "                                      'an', 'and', 'another', 'any', 'anyhow',\n",
              "                                      'anyone', 'anything', 'anyway',\n",
              "                                      'anywhere', ...}),\n",
              "                strip_accents=None, token_pattern='(?u)\\\\b\\\\w\\\\w+\\\\b',\n",
              "                tokenizer=None, vocabulary=None)"
            ]
          },
          "metadata": {
            "tags": []
          },
          "execution_count": 5
        }
      ]
    },
    {
      "cell_type": "markdown",
      "metadata": {
        "id": "WYt0K78cB1w0",
        "colab_type": "text"
      },
      "source": [
        "Количество проиндексированных слов:"
      ]
    },
    {
      "cell_type": "code",
      "metadata": {
        "id": "RjjRR9cTB1w1",
        "colab_type": "code",
        "outputId": "2152c9c8-9e06-4ab0-84c7-230037a671df",
        "colab": {
          "base_uri": "https://localhost:8080/",
          "height": 34
        }
      },
      "source": [
        "len(vectorizer.vocabulary_)"
      ],
      "execution_count": 6,
      "outputs": [
        {
          "output_type": "execute_result",
          "data": {
            "text/plain": [
              "10299"
            ]
          },
          "metadata": {
            "tags": []
          },
          "execution_count": 6
        }
      ]
    },
    {
      "cell_type": "markdown",
      "metadata": {
        "id": "rDTu6nCHB1xJ",
        "colab_type": "text"
      },
      "source": [
        "Проиндексированные слова и их индексы:"
      ]
    },
    {
      "cell_type": "code",
      "metadata": {
        "id": "0TRxTcoeB1xK",
        "colab_type": "code",
        "outputId": "9952b161-6c54-48c8-98da-dcc17061cc16",
        "colab": {
          "base_uri": "https://localhost:8080/",
          "height": 1000
        }
      },
      "source": [
        "vectorizer.vocabulary_"
      ],
      "execution_count": 7,
      "outputs": [
        {
          "output_type": "execute_result",
          "data": {
            "text/plain": [
              "{'wondering': 10138,\n",
              " 'enlighten': 3576,\n",
              " 'car': 1905,\n",
              " 'saw': 8221,\n",
              " 'door': 3288,\n",
              " 'sports': 8787,\n",
              " 'looked': 5726,\n",
              " 'late': 5506,\n",
              " '60s': 542,\n",
              " 'early': 3399,\n",
              " '70s': 593,\n",
              " 'doors': 3289,\n",
              " 'small': 8633,\n",
              " 'addition': 824,\n",
              " 'bumper': 1791,\n",
              " 'separate': 8381,\n",
              " 'rest': 7936,\n",
              " 'body': 1628,\n",
              " 'model': 6155,\n",
              " 'engine': 3560,\n",
              " 'specs': 8750,\n",
              " 'production': 7337,\n",
              " 'history': 4668,\n",
              " 'info': 4995,\n",
              " 'fair': 3856,\n",
              " 'brave': 1710,\n",
              " 'souls': 8705,\n",
              " 'upgraded': 9730,\n",
              " 'si': 8518,\n",
              " 'clock': 2185,\n",
              " 'oscillator': 6697,\n",
              " 'shared': 8445,\n",
              " 'experiences': 3762,\n",
              " 'poll': 7118,\n",
              " 'brief': 1731,\n",
              " 'message': 6021,\n",
              " 'detailing': 3061,\n",
              " 'procedure': 7318,\n",
              " 'speed': 8756,\n",
              " 'cpu': 2689,\n",
              " 'rated': 7616,\n",
              " 'add': 821,\n",
              " 'cards': 1912,\n",
              " 'adapters': 818,\n",
              " 'heat': 4598,\n",
              " 'hour': 4740,\n",
              " 'usage': 9748,\n",
              " 'floppy': 4047,\n",
              " 'disk': 3202,\n",
              " 'functionality': 4198,\n",
              " '800': 620,\n",
              " 'floppies': 4046,\n",
              " 'especially': 3635,\n",
              " 'requested': 7883,\n",
              " 'days': 2867,\n",
              " 'network': 6398,\n",
              " 'knowledge': 5439,\n",
              " 'base': 1435,\n",
              " 'upgrade': 9729,\n",
              " 'haven': 4565,\n",
              " 'answered': 1066,\n",
              " 'folks': 4066,\n",
              " 'mac': 5801,\n",
              " 'plus': 7089,\n",
              " 'finally': 3980,\n",
              " 'gave': 4251,\n",
              " 'ghost': 4314,\n",
              " 'weekend': 10040,\n",
              " 'starting': 8845,\n",
              " '512k': 502,\n",
              " '1985': 204,\n",
              " 'market': 5891,\n",
              " 'machine': 5803,\n",
              " 'sooner': 8698,\n",
              " 'intended': 5091,\n",
              " 'picking': 6996,\n",
              " 'powerbook': 7183,\n",
              " '160': 113,\n",
              " '180': 138,\n",
              " 'bunch': 1792,\n",
              " 'questions': 7539,\n",
              " 'hopefully': 4719,\n",
              " 'somebody': 8688,\n",
              " 'answer': 1065,\n",
              " 'anybody': 1074,\n",
              " 'dirt': 3154,\n",
              " 'round': 8100,\n",
              " 'expected': 3752,\n",
              " 'supposed': 9076,\n",
              " 'summer': 9046,\n",
              " 'anymore': 1075,\n",
              " 'access': 752,\n",
              " 'rumors': 8131,\n",
              " 'price': 7276,\n",
              " 'drops': 3347,\n",
              " 'ones': 6615,\n",
              " 'duo': 3373,\n",
              " 'went': 10052,\n",
              " 'recently': 7684,\n",
              " 'impression': 4896,\n",
              " 'display': 3210,\n",
              " 'swing': 9129,\n",
              " '80mb': 626,\n",
              " '120': 60,\n",
              " 'feel': 3932,\n",
              " 'yea': 10250,\n",
              " 'looks': 5727,\n",
              " 'store': 8917,\n",
              " 'wow': 10174,\n",
              " 'opinions': 6640,\n",
              " 'worth': 10166,\n",
              " 'taking': 9176,\n",
              " 'size': 8583,\n",
              " 'money': 6184,\n",
              " 'hit': 4669,\n",
              " 'active': 803,\n",
              " 'realize': 7656,\n",
              " 'subjective': 8988,\n",
              " 'played': 7070,\n",
              " 'machines': 5804,\n",
              " 'computer': 2390,\n",
              " 'figured': 3963,\n",
              " 'uses': 9757,\n",
              " 'daily': 2822,\n",
              " 'prove': 7425,\n",
              " 'helpful': 4621,\n",
              " 'perform': 6923,\n",
              " 'advance': 858,\n",
              " 'summary': 9045,\n",
              " 'news': 6409,\n",
              " 'reading': 7646,\n",
              " 'premium': 7235,\n",
              " 'finals': 3981,\n",
              " 'corner': 2628,\n",
              " 'tom': 9412,\n",
              " 'willis': 10086,\n",
              " 'ecn': 3420,\n",
              " 'purdue': 7479,\n",
              " 'electrical': 3478,\n",
              " 'engineering': 3563,\n",
              " 'address': 828,\n",
              " 'phone': 6979,\n",
              " 'chip': 2076,\n",
              " 'article': 1198,\n",
              " 'std': 8870,\n",
              " 'baker': 1406,\n",
              " 'understanding': 9670,\n",
              " 'errors': 3623,\n",
              " 'basically': 1440,\n",
              " 'known': 5441,\n",
              " 'bugs': 1777,\n",
              " 'warning': 9985,\n",
              " 'checked': 2054,\n",
              " 'values': 9809,\n",
              " 'aren': 1151,\n",
              " 'till': 9378,\n",
              " 'launch': 5516,\n",
              " 'fix': 4012,\n",
              " 'code': 2223,\n",
              " 'possibly': 7161,\n",
              " 'introduce': 5147,\n",
              " 'crew': 2720,\n",
              " 'ok': 6602,\n",
              " '213': 256,\n",
              " 'ignore': 4831,\n",
              " 'term': 9272,\n",
              " 'defined': 2948,\n",
              " 'doubt': 3298,\n",
              " 'quote': 7549,\n",
              " 'allegedly': 968,\n",
              " 'presenting': 7248,\n",
              " 'argument': 1162,\n",
              " 'weapons': 10028,\n",
              " 'mass': 5914,\n",
              " 'destruction': 3057,\n",
              " 'commonly': 2310,\n",
              " 'understood': 9671,\n",
              " 'switching': 9134,\n",
              " 'topics': 9428,\n",
              " 'evidently': 3681,\n",
              " 'allowed': 978,\n",
              " 'later': 5508,\n",
              " 'analysis': 1025,\n",
              " 'consider': 2478,\n",
              " 'class': 2149,\n",
              " 'responded': 7928,\n",
              " 'request': 7882,\n",
              " 'treatment': 9525,\n",
              " 'couldn': 2656,\n",
              " 'thank': 9307,\n",
              " 'directly': 3149,\n",
              " 'bouncing': 1681,\n",
              " 'sean': 8296,\n",
              " 'sharon': 8450,\n",
              " 'publicly': 7455,\n",
              " 'glad': 4333,\n",
              " 'accidentally': 759,\n",
              " 'rn': 8046,\n",
              " 'instead': 5058,\n",
              " 'rm': 8045,\n",
              " 'delete': 2964,\n",
              " 'file': 3966,\n",
              " 'september': 8388,\n",
              " 'hmmm': 4680,\n",
              " 'shows': 8511,\n",
              " 'scsi': 8284,\n",
              " 'controler': 2565,\n",
              " 'range': 7598,\n",
              " '5mb': 529,\n",
              " 'controller': 2567,\n",
              " '6mb': 583,\n",
              " '10mb': 43,\n",
              " 'burst': 1804,\n",
              " 'note': 6466,\n",
              " 'increase': 4936,\n",
              " 'quadra': 7515,\n",
              " 'version': 9851,\n",
              " 'exist': 3733,\n",
              " 'pc': 6888,\n",
              " 'mode': 6154,\n",
              " '16': 112,\n",
              " 'wide': 10071,\n",
              " 'fast': 3891,\n",
              " '12mb': 73,\n",
              " '20mb': 250,\n",
              " '32': 376,\n",
              " '40mb': 446,\n",
              " 'twice': 9598,\n",
              " 'esdi': 3633,\n",
              " 'correct': 2637,\n",
              " 'reach': 7633,\n",
              " 'faster': 3892,\n",
              " 'ide': 4809,\n",
              " '96': 665,\n",
              " 'facts': 3846,\n",
              " 'posted': 7164,\n",
              " 'newsgroup': 6410,\n",
              " 'ibm': 4799,\n",
              " 'sheet': 8459,\n",
              " 'ftp': 4184,\n",
              " 'sumex': 9040,\n",
              " 'aim': 928,\n",
              " 'stanford': 8838,\n",
              " '36': 407,\n",
              " '44': 459,\n",
              " 'report': 7858,\n",
              " 'compare': 2327,\n",
              " 'txt': 9605,\n",
              " '161': 115,\n",
              " 'documented': 3266,\n",
              " 'apple': 1102,\n",
              " 'maximum': 5942,\n",
              " 'synchronous': 9148,\n",
              " 'slower': 8627,\n",
              " 'interface': 5111,\n",
              " 'driven': 3337,\n",
              " 'win': 10088,\n",
              " 'downloaded': 3303,\n",
              " 'icons': 4805,\n",
              " 'bmp': 1614,\n",
              " 'figure': 3962,\n",
              " 'change': 2018,\n",
              " 'wallpaper': 9972,\n",
              " 'appreciated': 1116,\n",
              " 'thanx': 9309,\n",
              " 'board': 1620,\n",
              " 'licensing': 5632,\n",
              " 'technologies': 9234,\n",
              " 'owners': 6738,\n",
              " 'compression': 2381,\n",
              " 'technology': 9235,\n",
              " 'writing': 10187,\n",
              " 'memory': 6001,\n",
              " 'lost': 5742,\n",
              " 'reference': 7722,\n",
              " 'fault': 3900,\n",
              " 'icon': 4804,\n",
              " 'usually': 9761,\n",
              " 'mentioned': 6007,\n",
              " 'freeware': 4160,\n",
              " 'expansion': 3748,\n",
              " 'utility': 9767,\n",
              " 'dd': 2871,\n",
              " 'expand': 3745,\n",
              " 'compressed': 2380,\n",
              " 'unless': 9703,\n",
              " 'installed': 5053,\n",
              " 'product': 7336,\n",
              " 'unlikely': 9705,\n",
              " 'holes': 4691,\n",
              " 'related': 7775,\n",
              " 'fixed': 4013,\n",
              " 'sad': 8166,\n",
              " 'reluctant': 7802,\n",
              " 'buy': 1818,\n",
              " 'hey': 4640,\n",
              " 'competition': 2345,\n",
              " '1978': 195,\n",
              " 'runs': 8135,\n",
              " 'paint': 6778,\n",
              " 'brown': 1755,\n",
              " 'orange': 6661,\n",
              " 'leaks': 5556,\n",
              " 'oil': 6599,\n",
              " 'pops': 7131,\n",
              " '1st': 234,\n",
              " 'shop': 8488,\n",
              " 'trans': 9484,\n",
              " 'leak': 5555,\n",
              " 'sold': 8674,\n",
              " 'bike': 1547,\n",
              " 'owner': 6737,\n",
              " 'thinking': 9332,\n",
              " '3k': 433,\n",
              " 'nice': 6421,\n",
              " 'stable': 8816,\n",
              " 'axis': 1369,\n",
              " 'motors': 6234,\n",
              " 'richardson': 8002,\n",
              " 'tx': 9604,\n",
              " 'org': 6673,\n",
              " 'dod': 3268,\n",
              " 'yep': 10257,\n",
              " 'jew': 5272,\n",
              " 'understand': 9668,\n",
              " 'jewish': 5273,\n",
              " 'jews': 5274,\n",
              " 'covenant': 2678,\n",
              " 'abraham': 720,\n",
              " 'moses': 6213,\n",
              " 'moral': 6202,\n",
              " 'follow': 4067,\n",
              " 'mankind': 5863,\n",
              " 'decide': 2895,\n",
              " 'boundaries': 1683,\n",
              " 'fall': 3864,\n",
              " 'believed': 1502,\n",
              " 'torah': 9431,\n",
              " 'required': 7887,\n",
              " 'pharisees': 6961,\n",
              " 'ancestors': 1029,\n",
              " 'modern': 6163,\n",
              " 'judaism': 5323,\n",
              " 'interpretation': 5128,\n",
              " 'lead': 5545,\n",
              " 'morality': 6203,\n",
              " 'essence': 3638,\n",
              " 'biblical': 1540,\n",
              " 'man': 5847,\n",
              " 'christian': 2093,\n",
              " 'necessarily': 6359,\n",
              " 'indicate': 4953,\n",
              " 'outside': 6721,\n",
              " 'relationship': 7780,\n",
              " 'speculate': 8753,\n",
              " 'trouble': 9559,\n",
              " 'created': 2708,\n",
              " 'image': 4851,\n",
              " 'conclusion': 2411,\n",
              " 'wants': 9978,\n",
              " 'script': 8276,\n",
              " 'foundation': 4131,\n",
              " 'mix': 6139,\n",
              " 'living': 5691,\n",
              " 'christ': 2092,\n",
              " 'jesus': 5269,\n",
              " 'recorded': 7699,\n",
              " 'followers': 4069,\n",
              " 'references': 7724,\n",
              " 'historians': 4663,\n",
              " 'revelation': 7970,\n",
              " 'aside': 1213,\n",
              " 'hand': 4508,\n",
              " 'worse': 10163,\n",
              " 'attempt': 1291,\n",
              " 'christianity': 2094,\n",
              " 'initially': 5014,\n",
              " 'bible': 1539,\n",
              " 'interpret': 5127,\n",
              " 'humanity': 4763,\n",
              " 'guess': 4461,\n",
              " 'faith': 3860,\n",
              " 'comes': 2278,\n",
              " 'inherent': 5008,\n",
              " 'absolute': 725,\n",
              " 'multiple': 6272,\n",
              " 'codes': 2225,\n",
              " 'founded': 4133,\n",
              " 'parent': 6815,\n",
              " 'child': 2070,\n",
              " 'swear': 9121,\n",
              " 'assume': 1248,\n",
              " 'simply': 8556,\n",
              " 'told': 9407,\n",
              " 'pub': 7450,\n",
              " 'bar': 1424,\n",
              " 'children': 2073,\n",
              " 'inappropriate': 4910,\n",
              " 'happy': 4533,\n",
              " 'animals': 1046,\n",
              " 'analogy': 1023,\n",
              " 'hold': 4685,\n",
              " 'water': 10007,\n",
              " 'knows': 5442,\n",
              " 'type': 9607,\n",
              " 'incidentally': 4916,\n",
              " 'young': 10268,\n",
              " 'considers': 2485,\n",
              " 'directive': 3148,\n",
              " 'gets': 4308,\n",
              " 'older': 6606,\n",
              " 'david': 2860,\n",
              " 'religion': 7799,\n",
              " 'description': 3030,\n",
              " 'external': 3812,\n",
              " 'tank': 9188,\n",
              " 'option': 6656,\n",
              " 'ssf': 8811,\n",
              " 'redesign': 7710,\n",
              " 'deleted': 2965,\n",
              " 'yo': 10266,\n",
              " 'ken': 5377,\n",
              " 'orbiter': 6664,\n",
              " 'options': 6658,\n",
              " 'today': 9402,\n",
              " '23': 274,\n",
              " 'edition': 3434,\n",
              " 'york': 10267,\n",
              " 'reports': 7864,\n",
              " 'connor': 2466,\n",
              " 'panel': 6793,\n",
              " 'proposals': 7398,\n",
              " 'dropped': 3345,\n",
              " 'giant': 4316,\n",
              " 'fuel': 4188,\n",
              " 'tanks': 9189,\n",
              " 'launching': 5521,\n",
              " 'space': 8718,\n",
              " 'building': 1780,\n",
              " 'station': 8855,\n",
              " 'existing': 3738,\n",
              " 'shuttle': 8516,\n",
              " 'wings': 10097,\n",
              " 'tail': 9173,\n",
              " 'removed': 7826,\n",
              " 'currently': 2787,\n",
              " 'considered': 2483,\n",
              " 'presented': 7247,\n",
              " 'advisory': 873,\n",
              " 'meeting': 5985,\n",
              " 'yesterday': 10259,\n",
              " 'reported': 7859,\n",
              " 'low': 5754,\n",
              " 'cost': 2652,\n",
              " 'modular': 6171,\n",
              " 'approach': 1117,\n",
              " 'studied': 8973,\n",
              " 'team': 9222,\n",
              " 'teams': 9223,\n",
              " 'jsc': 5319,\n",
              " 'larc': 5494,\n",
              " 'supporting': 9072,\n",
              " 'crystal': 2759,\n",
              " 'city': 2131,\n",
              " 'lerc': 5595,\n",
              " 'reston': 7940,\n",
              " 'site': 8575,\n",
              " 'locations': 5708,\n",
              " 'helping': 4622,\n",
              " 'respective': 7924,\n",
              " 'activities': 806,\n",
              " 'key': 5386,\n",
              " 'features': 3920,\n",
              " 'bus': 1806,\n",
              " 'developed': 3078,\n",
              " 'lockheed': 5711,\n",
              " 'qualified': 7519,\n",
              " 'sts': 8968,\n",
              " 'provides': 7434,\n",
              " 'propulsion': 7405,\n",
              " 'gn': 4349,\n",
              " 'communications': 2314,\n",
              " 'management': 5850,\n",
              " 'air': 931,\n",
              " 'force': 4088,\n",
              " 'capability': 1892,\n",
              " 'obtained': 6551,\n",
              " 'flights': 4040,\n",
              " 'solar': 8672,\n",
              " 'arrays': 1185,\n",
              " 'provide': 7429,\n",
              " 'vehicle': 9831,\n",
              " 'arrow': 1195,\n",
              " 'environment': 3598,\n",
              " 'missions': 6124,\n",
              " 'utilize': 9768,\n",
              " 'source': 8711,\n",
              " 'human': 4761,\n",
              " 'tended': 9264,\n",
              " 'opposed': 6646,\n",
              " 'achieved': 784,\n",
              " 'common': 2309,\n",
              " 'module': 6173,\n",
              " 'modified': 6168,\n",
              " 'lab': 5459,\n",
              " 'ports': 7148,\n",
              " 'added': 822,\n",
              " 'international': 5124,\n",
              " 'partners': 6840,\n",
              " 'labs': 5467,\n",
              " '60': 536,\n",
              " 'esa': 3627,\n",
              " 'modules': 6174,\n",
              " 'permanent': 6933,\n",
              " 'presence': 7243,\n",
              " '3rd': 437,\n",
              " 'assured': 1256,\n",
              " 'return': 7960,\n",
              " 'freedom': 4155,\n",
              " 'derived': 3024,\n",
              " 'mike': 6068,\n",
              " 'alot': 982,\n",
              " 'design': 3037,\n",
              " 'love': 5749,\n",
              " 'assumes': 1250,\n",
              " 'assembly': 1226,\n",
              " 'computed': 2389,\n",
              " '51': 499,\n",
              " 'inclination': 4918,\n",
              " 'orbit': 6662,\n",
              " 'build': 1778,\n",
              " 'occurs': 6566,\n",
              " 'initial': 5012,\n",
              " 'research': 7894,\n",
              " 'reached': 7634,\n",
              " 'transferred': 9489,\n",
              " 'visits': 9909,\n",
              " 'adopted': 853,\n",
              " 'language': 5491,\n",
              " 'deployed': 3012,\n",
              " 'keeping': 5372,\n",
              " 'supply': 9068,\n",
              " 'tolerance': 9408,\n",
              " '14': 87,\n",
              " '2nd': 351,\n",
              " 'thermal': 9328,\n",
              " 'control': 2564,\n",
              " 'radiator': 7574,\n",
              " 'finish': 3992,\n",
              " '24': 284,\n",
              " 'systems': 9158,\n",
              " 'exception': 3700,\n",
              " 'major': 5836,\n",
              " 'changes': 2020,\n",
              " 'reduced': 7714,\n",
              " 'prices': 7278,\n",
              " 'forsale': 4116,\n",
              " 'behalf': 1490,\n",
              " 'brother': 1752,\n",
              " 'moving': 6249,\n",
              " 'moved': 6243,\n",
              " 'offer': 6582,\n",
              " 'black': 1581,\n",
              " 'portable': 7141,\n",
              " 'purchased': 7476,\n",
              " '12': 59,\n",
              " 'sr': 8806,\n",
              " '1000': 28,\n",
              " 'dual': 3362,\n",
              " 'cassette': 1938,\n",
              " 'player': 7071,\n",
              " 'fm': 4058,\n",
              " 'band': 1415,\n",
              " 'graphics': 4412,\n",
              " 'tape': 9191,\n",
              " 'deck': 2902,\n",
              " 'sound': 8706,\n",
              " 'bet': 1527,\n",
              " '80': 619,\n",
              " '25': 298,\n",
              " 'zoom': 10295,\n",
              " 'japan': 5252,\n",
              " 'includes': 4922,\n",
              " 'accessories': 756,\n",
              " '50': 492,\n",
              " '1400': 89,\n",
              " 'hair': 4497,\n",
              " 'head': 4578,\n",
              " 'bag': 1403,\n",
              " 'leather': 5563,\n",
              " 'brand': 1706,\n",
              " 'speeds': 8759,\n",
              " 'extra': 3814,\n",
              " 'angle': 1042,\n",
              " 'spray': 8790,\n",
              " 'steam': 8876,\n",
              " 'dry': 3354,\n",
              " 'iron': 5197,\n",
              " 'contact': 2519,\n",
              " 'reply': 7856,\n",
              " 'included': 4921,\n",
              " 'reasonable': 7663,\n",
              " 'happened': 4527,\n",
              " 'japanese': 5253,\n",
              " 'citizens': 2129,\n",
              " 'war': 9979,\n",
              " 'ii': 4835,\n",
              " 'prepared': 7239,\n",
              " 'stick': 8895,\n",
              " 'concentration': 2398,\n",
              " 'camp': 1870,\n",
              " 'trial': 9536,\n",
              " 'short': 8492,\n",
              " 'step': 8883,\n",
              " 'nazis': 6339,\n",
              " 'originally': 6688,\n",
              " 'final': 3979,\n",
              " 'solution': 8682,\n",
              " 'partly': 6838,\n",
              " 'afford': 892,\n",
              " 'camps': 1874,\n",
              " 'caused': 1957,\n",
              " 'total': 9441,\n",
              " 'weren': 10053,\n",
              " 'generally': 4272,\n",
              " 'died': 3111,\n",
              " 'disease': 3197,\n",
              " 'certainly': 1993,\n",
              " 'tiff': 9374,\n",
              " 'works': 10153,\n",
              " 'complexity': 2365,\n",
              " 'led': 5570,\n",
              " 'programs': 7355,\n",
              " 'poor': 7125,\n",
              " 'writers': 10185,\n",
              " 'making': 5842,\n",
              " 'bizarre': 1577,\n",
              " 'files': 3969,\n",
              " 'inability': 4907,\n",
              " 'load': 5697,\n",
              " 'images': 4853,\n",
              " 'save': 8215,\n",
              " 'general': 4270,\n",
              " 'environments': 3600,\n",
              " 'despite': 3052,\n",
              " 'saying': 8222,\n",
              " 'goes': 4362,\n",
              " 'worried': 10160,\n",
              " 'abuse': 732,\n",
              " 'immense': 4863,\n",
              " 'unnecessary': 9709,\n",
              " 'format': 4107,\n",
              " 'words': 10146,\n",
              " 'spec': 8735,\n",
              " 'page': 6771,\n",
              " 'emphasis': 3510,\n",
              " 'sort': 8701,\n",
              " 'success': 9009,\n",
              " 'designed': 3039,\n",
              " 'powerful': 7185,\n",
              " 'flexible': 4038,\n",
              " 'expense': 3757,\n",
              " 'simplicity': 8554,\n",
              " 'takes': 9175,\n",
              " 'effort': 3456,\n",
              " 'handle': 4515,\n",
              " 'specification': 8744,\n",
              " 'application': 1107,\n",
              " 'complete': 2360,\n",
              " 'job': 5282,\n",
              " 'import': 4887,\n",
              " 'generating': 4276,\n",
              " 'applications': 1108,\n",
              " 'deal': 2875,\n",
              " 'trapped': 9513,\n",
              " 'agrees': 919,\n",
              " 'reasoning': 7666,\n",
              " 'asking': 1215,\n",
              " 'rates': 7617,\n",
              " 'single': 8566,\n",
              " 'male': 5844,\n",
              " 'drivers': 3339,\n",
              " 'paying': 6881,\n",
              " 'performance': 6924,\n",
              " 'cars': 1930,\n",
              " 'replies': 7855,\n",
              " 'received': 7678,\n",
              " '27': 320,\n",
              " 'close': 2189,\n",
              " '1992': 212,\n",
              " 'dodge': 3269,\n",
              " 'stealth': 8875,\n",
              " 'rt': 8118,\n",
              " 'twin': 9599,\n",
              " 'turbo': 9584,\n",
              " 'tickets': 9370,\n",
              " 'accidents': 760,\n",
              " 'house': 4742,\n",
              " 'taken': 9174,\n",
              " 'defensive': 2943,\n",
              " 'driving': 3342,\n",
              " 'abs': 722,\n",
              " 'security': 8323,\n",
              " 'alarm': 944,\n",
              " '1500': 101,\n",
              " '500': 493,\n",
              " 'farm': 3885,\n",
              " 'insurance': 5073,\n",
              " 'additional': 825,\n",
              " '100': 27,\n",
              " '000': 1,\n",
              " 'policy': 7110,\n",
              " 'standard': 8832,\n",
              " '300': 360,\n",
              " 'bought': 1676,\n",
              " 'company': 2323,\n",
              " 'accident': 757,\n",
              " 'ticket': 9369,\n",
              " '11': 45,\n",
              " 'quoted': 7550,\n",
              " 'helps': 4624,\n",
              " 'steve': 8891,\n",
              " 'university': 9698,\n",
              " '45': 461,\n",
              " 'kevin': 5385,\n",
              " 'remembered': 7816,\n",
              " 'correctly': 2641,\n",
              " 'asked': 1214,\n",
              " 'similar': 8544,\n",
              " 'situation': 8579,\n",
              " 'inquiry': 5035,\n",
              " 'age': 902,\n",
              " 'eagle': 3393,\n",
              " 'record': 7698,\n",
              " 'clean': 2159,\n",
              " 'illinois': 4845,\n",
              " 'turn': 9590,\n",
              " '520': 509,\n",
              " 'higher': 4648,\n",
              " 'rate': 7615,\n",
              " 'couple': 2670,\n",
              " 'friends': 4174,\n",
              " 'pay': 6880,\n",
              " 'ins': 5037,\n",
              " 'companies': 2322,\n",
              " 'lucky': 5769,\n",
              " 'dan': 2832,\n",
              " 'mot': 6216,\n",
              " 'motorola': 6233,\n",
              " 'cellular': 1977,\n",
              " '38': 417,\n",
              " 'usa': 9745,\n",
              " 'cc': 1964,\n",
              " 'live': 5687,\n",
              " 'oklahoma': 6604,\n",
              " '89': 643,\n",
              " 'sc': 8225,\n",
              " 'claim': 2141,\n",
              " 'negligent': 6371,\n",
              " 'stop': 8912,\n",
              " 'signs': 8538,\n",
              " 'radios': 7579,\n",
              " 'violations': 9892,\n",
              " '18': 137,\n",
              " 'months': 6196,\n",
              " '85': 635,\n",
              " '55': 513,\n",
              " 'failure': 3853,\n",
              " 'clear': 2164,\n",
              " 'intersection': 5136,\n",
              " 'damn': 2829,\n",
              " 'light': 5642,\n",
              " 'yellow': 10256,\n",
              " '35': 398,\n",
              " 'passive': 6854,\n",
              " 'liability': 5615,\n",
              " 'comprehensive': 2378,\n",
              " 'collision': 2252,\n",
              " 'roughly': 8099,\n",
              " '1300': 77,\n",
              " '1100': 47,\n",
              " '92': 660,\n",
              " 'lx': 5782,\n",
              " 'james': 5246,\n",
              " 'law': 5522,\n",
              " 'center': 1982,\n",
              " 'ucs': 9629,\n",
              " 'disclaimer': 3178,\n",
              " 'engineer': 3561,\n",
              " 'play': 7068,\n",
              " 'calls': 1862,\n",
              " 'thunder': 9366,\n",
              " 'bird': 1564,\n",
              " 'hell': 4615,\n",
              " 'killing': 5408,\n",
              " 'gonna': 4367,\n",
              " '61': 543,\n",
              " 'experience': 3760,\n",
              " 'interesting': 5108,\n",
              " 'owned': 6736,\n",
              " 'toyota': 9455,\n",
              " 'gt': 4453,\n",
              " 'decided': 2896,\n",
              " 'gift': 4321,\n",
              " 'exotic': 3744,\n",
              " 'runners': 8133,\n",
              " 'porsche': 7139,\n",
              " '1987': 206,\n",
              " 'liked': 5648,\n",
              " 'handling': 4519,\n",
              " 'appeal': 1092,\n",
              " 'personal': 6944,\n",
              " 'luxury': 5780,\n",
              " 'acceleration': 743,\n",
              " 'ready': 7650,\n",
              " 'buying': 1821,\n",
              " 'impulse': 4906,\n",
              " 'agent': 907,\n",
              " 'office': 6586,\n",
              " 'happen': 4526,\n",
              " 'classification': 2153,\n",
              " 'slight': 8615,\n",
              " 'newer': 6406,\n",
              " 'lower': 5756,\n",
              " 'risk': 8033,\n",
              " 'division': 3246,\n",
              " 'continue': 2540,\n",
              " 'account': 770,\n",
              " 'double': 3296,\n",
              " 'story': 8923,\n",
              " 'cover': 2679,\n",
              " 'cancel': 1882,\n",
              " 'sense': 8367,\n",
              " 'book': 1646,\n",
              " 'says': 8223,\n",
              " 'insure': 5074,\n",
              " 'traditional': 9473,\n",
              " 'conservative': 2476,\n",
              " 'eventually': 3675,\n",
              " 'reasons': 7667,\n",
              " 'dealer': 2876,\n",
              " 'tough': 9447,\n",
              " 'pressure': 7261,\n",
              " 'guy': 4479,\n",
              " 'room': 8088,\n",
              " 'equal': 3609,\n",
              " 'monthly': 6195,\n",
              " 'payments': 6885,\n",
              " 'longer': 5724,\n",
              " 'concluded': 2409,\n",
              " 'probability': 7313,\n",
              " 'auto': 1330,\n",
              " 'theft': 9311,\n",
              " 'entitled': 3591,\n",
              " 'opinion': 6639,\n",
              " 'oasys': 6518,\n",
              " 'dt': 3359,\n",
              " 'navy': 6337,\n",
              " 'mil': 6069,\n",
              " 'imagination': 4854,\n",
              " 'important': 4889,\n",
              " 'albert': 949,\n",
              " 'einstein': 3467,\n",
              " 'idaho': 4808,\n",
              " '26': 312,\n",
              " 'turned': 9591,\n",
              " 'immediately': 4862,\n",
              " 'strictly': 8947,\n",
              " 'stayed': 8867,\n",
              " '150': 100,\n",
              " 'pickup': 6998,\n",
              " 'amazing': 998,\n",
              " 'felt': 3942,\n",
              " 'responsible': 7935,\n",
              " '21': 252,\n",
              " 'california': 1858,\n",
              " 'violation': 9891,\n",
              " '2000': 241,\n",
              " 'bargain': 1428,\n",
              " '28': 329,\n",
              " 'vw': 9948,\n",
              " 'san': 8188,\n",
              " 'jose': 5303,\n",
              " 'vs': 9944,\n",
              " 'v6': 9793,\n",
              " '1986': 205,\n",
              " 'honda': 4708,\n",
              " 'mexico': 6038,\n",
              " 'town': 9452,\n",
              " 'nearby': 6353,\n",
              " '5x': 535,\n",
              " '2x': 359,\n",
              " 'insured': 5075,\n",
              " 'robert': 8051,\n",
              " 'stack': 8817,\n",
              " 'institute': 5059,\n",
              " 'transportation': 9511,\n",
              " 'studies': 8974,\n",
              " 'univ': 9693,\n",
              " 'uci': 9627,\n",
              " 'mazda': 5945,\n",
              " '37': 413,\n",
              " 'saturn': 8212,\n",
              " '64': 554,\n",
              " 'st': 8813,\n",
              " 'yearly': 10252,\n",
              " 'date': 2853,\n",
              " 'license': 5629,\n",
              " 'oct': 6568,\n",
              " 'residence': 7903,\n",
              " 'mountain': 6237,\n",
              " 'view': 9873,\n",
              " '415': 450,\n",
              " '962': 667,\n",
              " '1200': 61,\n",
              " 'knock': 5435,\n",
              " 'wood': 10141,\n",
              " 'huge': 4757,\n",
              " 'difference': 3117,\n",
              " 'personally': 6946,\n",
              " 'towns': 9453,\n",
              " 'distance': 3219,\n",
              " 'boston': 1670,\n",
              " 'worst': 10165,\n",
              " '600': 537,\n",
              " '43': 455,\n",
              " '1990': 210,\n",
              " 'mitsubishi': 6138,\n",
              " 'eclipse': 3419,\n",
              " 'chicago': 2067,\n",
              " 'coverage': 2680,\n",
              " 'discount': 3182,\n",
              " 'miles': 6074,\n",
              " 'lived': 5688,\n",
              " '41': 447,\n",
              " '93': 661,\n",
              " 'sho': 8481,\n",
              " '287': 335,\n",
              " 'month': 6194,\n",
              " 'thats': 9310,\n",
              " '100k': 29,\n",
              " 'property': 7388,\n",
              " '250': 299,\n",
              " 'glass': 4335,\n",
              " '39': 424,\n",
              " 'seriously': 8395,\n",
              " 'ripped': 8028,\n",
              " 'listed': 5675,\n",
              " '2k': 346,\n",
              " 'calling': 1861,\n",
              " 'dealers': 2877,\n",
              " 'places': 7043,\n",
              " 'changed': 2019,\n",
              " 'maintain': 5831,\n",
              " 'careful': 1917,\n",
              " 'voltage': 9926,\n",
              " 'signal': 8529,\n",
              " 'output': 6715,\n",
              " 'preferably': 7223,\n",
              " 'factor': 3843,\n",
              " 'resulting': 7951,\n",
              " 'fed': 3923,\n",
              " 'easily': 3407,\n",
              " 'acquisition': 794,\n",
              " 'card': 1909,\n",
              " 'circuits': 2118,\n",
              " 'simple': 8551,\n",
              " 'amplifier': 1018,\n",
              " 'practice': 7194,\n",
              " 'sufficiently': 9025,\n",
              " 'nicely': 6422,\n",
              " 'degrees': 2957,\n",
              " 'accuracy': 775,\n",
              " 'exact': 3689,\n",
              " 'entry': 3595,\n",
              " 'parameter': 6809,\n",
              " 'syntax': 9150,\n",
              " 'terminal': 9273,\n",
              " 'configuration': 2435,\n",
              " 'loaded': 5698,\n",
              " 'boots': 1655,\n",
              " 'tcp': 9213,\n",
              " 'ip': 5184,\n",
              " 'background': 1392,\n",
              " 'unix': 9699,\n",
              " 'running': 8134,\n",
              " 'mit': 6134,\n",
              " 'x11r4': 10205,\n",
              " 'sun': 9047,\n",
              " 'window': 10091,\n",
              " 'ncd': 6344,\n",
              " 'manually': 5868,\n",
              " 'login': 5718,\n",
              " 'telnet': 9253,\n",
              " 'session': 8405,\n",
              " 'tried': 9545,\n",
              " 'xhost': 10219,\n",
              " 'failed': 3850,\n",
              " 'implementation': 4874,\n",
              " 'bogus': 1631,\n",
              " ...}"
            ]
          },
          "metadata": {
            "tags": []
          },
          "execution_count": 7
        }
      ]
    },
    {
      "cell_type": "markdown",
      "metadata": {
        "id": "Ki7CwruhB1xN",
        "colab_type": "text"
      },
      "source": [
        "Индекс, например, для слова anyone:"
      ]
    },
    {
      "cell_type": "code",
      "metadata": {
        "id": "N2XVuQu3B1xP",
        "colab_type": "code",
        "outputId": "bfc8a45e-dccb-458e-ad31-815087cc0a88",
        "colab": {
          "base_uri": "https://localhost:8080/",
          "height": 34
        }
      },
      "source": [
        "vectorizer.vocabulary_.get('car')"
      ],
      "execution_count": 8,
      "outputs": [
        {
          "output_type": "execute_result",
          "data": {
            "text/plain": [
              "1905"
            ]
          },
          "metadata": {
            "tags": []
          },
          "execution_count": 8
        }
      ]
    },
    {
      "cell_type": "markdown",
      "metadata": {
        "id": "H9ckeTs2B1xT",
        "colab_type": "text"
      },
      "source": [
        "А теперь преобразуем строку в вектор:"
      ]
    },
    {
      "cell_type": "code",
      "metadata": {
        "id": "DKb4MKQBB1xU",
        "colab_type": "code",
        "colab": {}
      },
      "source": [
        "text = 'I was wondering if anyone out there could enlighten me on this car I saw'\n",
        "x = vectorizer.transform([text])"
      ],
      "execution_count": 0,
      "outputs": []
    },
    {
      "cell_type": "markdown",
      "metadata": {
        "id": "ULWh4DvrB1xX",
        "colab_type": "text"
      },
      "source": [
        "Какой тип имеет объект, на который указывает ```x```?"
      ]
    },
    {
      "cell_type": "code",
      "metadata": {
        "id": "LSi_b4mIB1xX",
        "colab_type": "code",
        "outputId": "53e79e0e-8377-46ad-cb31-3f54cfa582b1",
        "colab": {
          "base_uri": "https://localhost:8080/",
          "height": 34
        }
      },
      "source": [
        "type(x)"
      ],
      "execution_count": 10,
      "outputs": [
        {
          "output_type": "execute_result",
          "data": {
            "text/plain": [
              "scipy.sparse.csr.csr_matrix"
            ]
          },
          "metadata": {
            "tags": []
          },
          "execution_count": 10
        }
      ]
    },
    {
      "cell_type": "markdown",
      "metadata": {
        "id": "VdVtA7GmB1xZ",
        "colab_type": "text"
      },
      "source": [
        "Разреженная матрица!"
      ]
    },
    {
      "cell_type": "markdown",
      "metadata": {
        "id": "ugUSIc9PB1xa",
        "colab_type": "text"
      },
      "source": [
        "### Отступление про разреженные матрицы"
      ]
    },
    {
      "cell_type": "markdown",
      "metadata": {
        "id": "OB_zLEVBB1xa",
        "colab_type": "text"
      },
      "source": [
        "Список ненулевых элементов матрицы:"
      ]
    },
    {
      "cell_type": "code",
      "metadata": {
        "id": "5ygEpbSSB1xb",
        "colab_type": "code",
        "outputId": "08419e36-36bd-46ec-8707-da8836fa88de",
        "colab": {
          "base_uri": "https://localhost:8080/",
          "height": 34
        }
      },
      "source": [
        "x.data"
      ],
      "execution_count": 11,
      "outputs": [
        {
          "output_type": "execute_result",
          "data": {
            "text/plain": [
              "array([1, 1, 1, 1])"
            ]
          },
          "metadata": {
            "tags": []
          },
          "execution_count": 11
        }
      ]
    },
    {
      "cell_type": "markdown",
      "metadata": {
        "id": "tejzzkvFB1xd",
        "colab_type": "text"
      },
      "source": [
        "Индексы строк и столбцов для ненулевых элементов:"
      ]
    },
    {
      "cell_type": "code",
      "metadata": {
        "id": "iYlLQ9WaB1xe",
        "colab_type": "code",
        "outputId": "e0bc8954-5949-4b77-edc4-2b03805ae4ae",
        "colab": {
          "base_uri": "https://localhost:8080/",
          "height": 50
        }
      },
      "source": [
        "\n",
        "x.nonzero()"
      ],
      "execution_count": 12,
      "outputs": [
        {
          "output_type": "execute_result",
          "data": {
            "text/plain": [
              "(array([0, 0, 0, 0], dtype=int32),\n",
              " array([ 1905,  3576,  8221, 10138], dtype=int32))"
            ]
          },
          "metadata": {
            "tags": []
          },
          "execution_count": 12
        }
      ]
    },
    {
      "cell_type": "markdown",
      "metadata": {
        "id": "43HhCWNTB1xg",
        "colab_type": "text"
      },
      "source": [
        "Преобразование к объекту ndarray (именно после приведения к такому виду разреженные матрицы можно подставлять в функции, например, библиотеки Numpy):"
      ]
    },
    {
      "cell_type": "code",
      "metadata": {
        "id": "1U7rGrAYB1xh",
        "colab_type": "code",
        "outputId": "7781f1e7-cd2f-4134-8055-fe118894ba36",
        "colab": {
          "base_uri": "https://localhost:8080/",
          "height": 34
        }
      },
      "source": [
        "x.toarray()"
      ],
      "execution_count": 13,
      "outputs": [
        {
          "output_type": "execute_result",
          "data": {
            "text/plain": [
              "array([[0, 0, 0, ..., 0, 0, 0]])"
            ]
          },
          "metadata": {
            "tags": []
          },
          "execution_count": 13
        }
      ]
    },
    {
      "cell_type": "markdown",
      "metadata": {
        "id": "rNcjGOXGB1xk",
        "colab_type": "text"
      },
      "source": [
        "Вернемся к словарю. Раскодируем вектор ```x``` в список слов:"
      ]
    },
    {
      "cell_type": "code",
      "metadata": {
        "id": "_A38zVwvB1xk",
        "colab_type": "code",
        "outputId": "83a1db76-e83c-4f71-94b0-2154c7816aec",
        "colab": {
          "base_uri": "https://localhost:8080/",
          "height": 34
        }
      },
      "source": [
        "vectorizer.inverse_transform(x)"
      ],
      "execution_count": 14,
      "outputs": [
        {
          "output_type": "execute_result",
          "data": {
            "text/plain": [
              "[array(['car', 'enlighten', 'saw', 'wondering'], dtype='<U79')]"
            ]
          },
          "metadata": {
            "tags": []
          },
          "execution_count": 14
        }
      ]
    },
    {
      "cell_type": "markdown",
      "metadata": {
        "id": "P4TuPHK1B1xm",
        "colab_type": "text"
      },
      "source": [
        "Пропало слово ```I```. Но дело в том, что по умолчанию ```CountVectorizer``` отбрасывает последовательности, короче 2 символов. На это указывает параметр ```token_pattern='(?u)\\\\b\\\\w\\\\w+\\\\b'```."
      ]
    },
    {
      "cell_type": "markdown",
      "metadata": {
        "id": "qZYK2sG_B1xn",
        "colab_type": "text"
      },
      "source": [
        "Переведем весь набор текстов обучающего датасета в набор векторов, получим матрицу ```X_train```:"
      ]
    },
    {
      "cell_type": "code",
      "metadata": {
        "id": "Uhj_aRW7B1xn",
        "colab_type": "code",
        "outputId": "2f0e3e9c-2e52-4064-d7b7-32297427af4c",
        "colab": {
          "base_uri": "https://localhost:8080/",
          "height": 34
        }
      },
      "source": [
        "X_train = vectorizer.fit_transform(newsgroups_train.data)\n",
        "X_train.shape"
      ],
      "execution_count": 15,
      "outputs": [
        {
          "output_type": "execute_result",
          "data": {
            "text/plain": [
              "(11314, 10299)"
            ]
          },
          "metadata": {
            "tags": []
          },
          "execution_count": 15
        }
      ]
    },
    {
      "cell_type": "markdown",
      "metadata": {
        "id": "DeYz7ZxuB1xs",
        "colab_type": "text"
      },
      "source": [
        "О пользе разреженных матриц. Отношение числа ненулевых элементов ко всем элементам матрицы ```X_train```:"
      ]
    },
    {
      "cell_type": "code",
      "metadata": {
        "id": "lkc9UFcTB1xt",
        "colab_type": "code",
        "outputId": "9e614d14-4062-4145-d134-edc777c6c4c1",
        "colab": {
          "base_uri": "https://localhost:8080/",
          "height": 34
        }
      },
      "source": [
        "X_train.nnz / np.prod(X_train.shape)"
      ],
      "execution_count": 16,
      "outputs": [
        {
          "output_type": "execute_result",
          "data": {
            "text/plain": [
              "0.004124425823095387"
            ]
          },
          "metadata": {
            "tags": []
          },
          "execution_count": 16
        }
      ]
    },
    {
      "cell_type": "markdown",
      "metadata": {
        "id": "i9ZpBC7Sgauk",
        "colab_type": "text"
      },
      "source": [
        "\n",
        "Задача: запустить модель LDA и Gibbs Sampling с числов тегов 20. Вывести топ-10 слов по каждому тегу. Соотнести полученные теги с тегами из датасета, сделать выводы. "
      ]
    },
    {
      "cell_type": "code",
      "metadata": {
        "id": "Rn_580PkLCCj",
        "colab_type": "code",
        "colab": {}
      },
      "source": [
        "from tqdm import tqdm\n",
        "docs, words=X_train.nonzero()\n",
        "tags=20\n",
        "z=np.random.choice(tags, len(docs))\n",
        "n_k=np.zeros(tags)\n",
        "n_dk=np.zeros(tags*X_train.shape[0]).reshape(X_train.shape[0],tags)\n",
        "n_kw=np.zeros(tags*X_train.shape[1]).reshape(tags,X_train.shape[1])\n",
        "for i, j, u in zip(docs, words, z):\n",
        "  n_dk[i, u] += 1\n",
        "  n_kw[u, j] += 1\n",
        "  n_k[u] += 1 \n"
      ],
      "execution_count": 0,
      "outputs": []
    },
    {
      "cell_type": "code",
      "metadata": {
        "id": "TyWGk-QMUraQ",
        "colab_type": "code",
        "colab": {}
      },
      "source": [
        "def lda(docs, words, n_k, n_kw, n_dk, z, tags, alpha, beta, n_iter): \n",
        "  for i1 in tqdm(range(n_iter)):\n",
        "    for j1 in range(len(docs)):\n",
        "      cur_word = words[j1]\n",
        "      cur_doc = docs[j1]\n",
        "      cur_tag = z[j1]\n",
        "      n_dk[cur_doc, cur_tag] -= 1\n",
        "      n_kw[cur_tag, cur_word] -= 1\n",
        "      n_k[cur_tag] -= 1\n",
        "      p = (n_dk[cur_doc, :] + alpha) * (n_kw[:, cur_word] + beta[cur_word]) / (n_k + beta.sum())\n",
        "      z[j1] = np.random.choice(np.arange(tags), p=p / p.sum())\n",
        "      n_dk[cur_doc, z[j1]] += 1\n",
        "      n_kw[z[j1], cur_word] += 1\n",
        "      n_k[z[j1]] += 1\n",
        "      \n",
        "  return z, n_kw, n_dk, n_k"
      ],
      "execution_count": 0,
      "outputs": []
    },
    {
      "cell_type": "code",
      "metadata": {
        "id": "Ajvmd0cZGpK3",
        "colab_type": "code",
        "outputId": "a2c0eb14-b2fa-47e1-f840-6dd26a1ecef4",
        "colab": {
          "base_uri": "https://localhost:8080/",
          "height": 1000
        }
      },
      "source": [
        "z, n_kw, n_dk, n_k = lda(docs, words, n_k, n_kw, n_dk, z, 20, 1*np.ones(20), 1*np.ones(X_train.shape[1]), 50)"
      ],
      "execution_count": 42,
      "outputs": [
        {
          "output_type": "stream",
          "text": [
            "\n",
            "\n",
            "\n",
            "\n",
            "\n",
            "\n",
            "\n",
            "  0%|          | 0/50 [00:00<?, ?it/s]\u001b[A\u001b[A\u001b[A\u001b[A\u001b[A\u001b[A\u001b[A\n",
            "\n",
            "\n",
            "\n",
            "\n",
            "\n",
            "\n",
            "  2%|▏         | 1/50 [00:32<26:29, 32.45s/it]\u001b[A\u001b[A\u001b[A\u001b[A\u001b[A\u001b[A\u001b[A\n",
            "\n",
            "\n",
            "\n",
            "\n",
            "\n",
            "\n",
            "  4%|▍         | 2/50 [01:04<25:57, 32.44s/it]\u001b[A\u001b[A\u001b[A\u001b[A\u001b[A\u001b[A\u001b[A\n",
            "\n",
            "\n",
            "\n",
            "\n",
            "\n",
            "\n",
            "  6%|▌         | 3/50 [01:37<25:22, 32.39s/it]\u001b[A\u001b[A\u001b[A\u001b[A\u001b[A\u001b[A\u001b[A\n",
            "\n",
            "\n",
            "\n",
            "\n",
            "\n",
            "\n",
            "  8%|▊         | 4/50 [02:09<24:52, 32.44s/it]\u001b[A\u001b[A\u001b[A\u001b[A\u001b[A\u001b[A\u001b[A\n",
            "\n",
            "\n",
            "\n",
            "\n",
            "\n",
            "\n",
            " 10%|█         | 5/50 [02:41<24:17, 32.38s/it]\u001b[A\u001b[A\u001b[A\u001b[A\u001b[A\u001b[A\u001b[A\n",
            "\n",
            "\n",
            "\n",
            "\n",
            "\n",
            "\n",
            " 12%|█▏        | 6/50 [03:14<23:43, 32.34s/it]\u001b[A\u001b[A\u001b[A\u001b[A\u001b[A\u001b[A\u001b[A\n",
            "\n",
            "\n",
            "\n",
            "\n",
            "\n",
            "\n",
            " 14%|█▍        | 7/50 [03:46<23:10, 32.34s/it]\u001b[A\u001b[A\u001b[A\u001b[A\u001b[A\u001b[A\u001b[A\n",
            "\n",
            "\n",
            "\n",
            "\n",
            "\n",
            "\n",
            " 16%|█▌        | 8/50 [04:18<22:38, 32.35s/it]\u001b[A\u001b[A\u001b[A\u001b[A\u001b[A\u001b[A\u001b[A\n",
            "\n",
            "\n",
            "\n",
            "\n",
            "\n",
            "\n",
            " 18%|█▊        | 9/50 [04:51<22:04, 32.32s/it]\u001b[A\u001b[A\u001b[A\u001b[A\u001b[A\u001b[A\u001b[A\n",
            "\n",
            "\n",
            "\n",
            "\n",
            "\n",
            "\n",
            " 20%|██        | 10/50 [05:23<21:33, 32.34s/it]\u001b[A\u001b[A\u001b[A\u001b[A\u001b[A\u001b[A\u001b[A\n",
            "\n",
            "\n",
            "\n",
            "\n",
            "\n",
            "\n",
            " 22%|██▏       | 11/50 [05:55<20:59, 32.29s/it]\u001b[A\u001b[A\u001b[A\u001b[A\u001b[A\u001b[A\u001b[A\n",
            "\n",
            "\n",
            "\n",
            "\n",
            "\n",
            "\n",
            " 24%|██▍       | 12/50 [06:28<20:31, 32.41s/it]\u001b[A\u001b[A\u001b[A\u001b[A\u001b[A\u001b[A\u001b[A\n",
            "\n",
            "\n",
            "\n",
            "\n",
            "\n",
            "\n",
            " 26%|██▌       | 13/50 [07:01<20:02, 32.49s/it]\u001b[A\u001b[A\u001b[A\u001b[A\u001b[A\u001b[A\u001b[A\n",
            "\n",
            "\n",
            "\n",
            "\n",
            "\n",
            "\n",
            " 28%|██▊       | 14/50 [07:33<19:29, 32.49s/it]\u001b[A\u001b[A\u001b[A\u001b[A\u001b[A\u001b[A\u001b[A\n",
            "\n",
            "\n",
            "\n",
            "\n",
            "\n",
            "\n",
            " 30%|███       | 15/50 [08:06<18:57, 32.49s/it]\u001b[A\u001b[A\u001b[A\u001b[A\u001b[A\u001b[A\u001b[A\n",
            "\n",
            "\n",
            "\n",
            "\n",
            "\n",
            "\n",
            " 32%|███▏      | 16/50 [08:38<18:25, 32.52s/it]\u001b[A\u001b[A\u001b[A\u001b[A\u001b[A\u001b[A\u001b[A\n",
            "\n",
            "\n",
            "\n",
            "\n",
            "\n",
            "\n",
            " 34%|███▍      | 17/50 [09:11<17:55, 32.60s/it]\u001b[A\u001b[A\u001b[A\u001b[A\u001b[A\u001b[A\u001b[A\n",
            "\n",
            "\n",
            "\n",
            "\n",
            "\n",
            "\n",
            " 36%|███▌      | 18/50 [09:44<17:25, 32.68s/it]\u001b[A\u001b[A\u001b[A\u001b[A\u001b[A\u001b[A\u001b[A\n",
            "\n",
            "\n",
            "\n",
            "\n",
            "\n",
            "\n",
            " 38%|███▊      | 19/50 [10:17<16:54, 32.71s/it]\u001b[A\u001b[A\u001b[A\u001b[A\u001b[A\u001b[A\u001b[A\n",
            "\n",
            "\n",
            "\n",
            "\n",
            "\n",
            "\n",
            " 40%|████      | 20/50 [10:49<16:19, 32.64s/it]\u001b[A\u001b[A\u001b[A\u001b[A\u001b[A\u001b[A\u001b[A\n",
            "\n",
            "\n",
            "\n",
            "\n",
            "\n",
            "\n",
            " 42%|████▏     | 21/50 [11:22<15:46, 32.65s/it]\u001b[A\u001b[A\u001b[A\u001b[A\u001b[A\u001b[A\u001b[A\n",
            "\n",
            "\n",
            "\n",
            "\n",
            "\n",
            "\n",
            " 44%|████▍     | 22/50 [11:54<15:12, 32.60s/it]\u001b[A\u001b[A\u001b[A\u001b[A\u001b[A\u001b[A\u001b[A\n",
            "\n",
            "\n",
            "\n",
            "\n",
            "\n",
            "\n",
            " 46%|████▌     | 23/50 [12:27<14:38, 32.54s/it]\u001b[A\u001b[A\u001b[A\u001b[A\u001b[A\u001b[A\u001b[A\n",
            "\n",
            "\n",
            "\n",
            "\n",
            "\n",
            "\n",
            " 48%|████▊     | 24/50 [12:59<14:04, 32.50s/it]\u001b[A\u001b[A\u001b[A\u001b[A\u001b[A\u001b[A\u001b[A\n",
            "\n",
            "\n",
            "\n",
            "\n",
            "\n",
            "\n",
            " 50%|█████     | 25/50 [13:31<13:31, 32.47s/it]\u001b[A\u001b[A\u001b[A\u001b[A\u001b[A\u001b[A\u001b[A\n",
            "\n",
            "\n",
            "\n",
            "\n",
            "\n",
            "\n",
            " 52%|█████▏    | 26/50 [14:04<12:59, 32.49s/it]\u001b[A\u001b[A\u001b[A\u001b[A\u001b[A\u001b[A\u001b[A\n",
            "\n",
            "\n",
            "\n",
            "\n",
            "\n",
            "\n",
            " 54%|█████▍    | 27/50 [14:36<12:27, 32.48s/it]\u001b[A\u001b[A\u001b[A\u001b[A\u001b[A\u001b[A\u001b[A\n",
            "\n",
            "\n",
            "\n",
            "\n",
            "\n",
            "\n",
            " 56%|█████▌    | 28/50 [15:09<11:55, 32.52s/it]\u001b[A\u001b[A\u001b[A\u001b[A\u001b[A\u001b[A\u001b[A\n",
            "\n",
            "\n",
            "\n",
            "\n",
            "\n",
            "\n",
            " 58%|█████▊    | 29/50 [15:42<11:24, 32.59s/it]\u001b[A\u001b[A\u001b[A\u001b[A\u001b[A\u001b[A\u001b[A\n",
            "\n",
            "\n",
            "\n",
            "\n",
            "\n",
            "\n",
            " 60%|██████    | 30/50 [16:14<10:49, 32.49s/it]\u001b[A\u001b[A\u001b[A\u001b[A\u001b[A\u001b[A\u001b[A\n",
            "\n",
            "\n",
            "\n",
            "\n",
            "\n",
            "\n",
            " 62%|██████▏   | 31/50 [16:49<10:30, 33.18s/it]\u001b[A\u001b[A\u001b[A\u001b[A\u001b[A\u001b[A\u001b[A\n",
            "\n",
            "\n",
            "\n",
            "\n",
            "\n",
            "\n",
            " 64%|██████▍   | 32/50 [17:21<09:53, 32.97s/it]\u001b[A\u001b[A\u001b[A\u001b[A\u001b[A\u001b[A\u001b[A\n",
            "\n",
            "\n",
            "\n",
            "\n",
            "\n",
            "\n",
            " 66%|██████▌   | 33/50 [17:54<09:18, 32.86s/it]\u001b[A\u001b[A\u001b[A\u001b[A\u001b[A\u001b[A\u001b[A\n",
            "\n",
            "\n",
            "\n",
            "\n",
            "\n",
            "\n",
            " 68%|██████▊   | 34/50 [18:27<08:44, 32.79s/it]\u001b[A\u001b[A\u001b[A\u001b[A\u001b[A\u001b[A\u001b[A\n",
            "\n",
            "\n",
            "\n",
            "\n",
            "\n",
            "\n",
            " 70%|███████   | 35/50 [18:59<08:09, 32.65s/it]\u001b[A\u001b[A\u001b[A\u001b[A\u001b[A\u001b[A\u001b[A\n",
            "\n",
            "\n",
            "\n",
            "\n",
            "\n",
            "\n",
            " 72%|███████▏  | 36/50 [19:31<07:36, 32.63s/it]\u001b[A\u001b[A\u001b[A\u001b[A\u001b[A\u001b[A\u001b[A\n",
            "\n",
            "\n",
            "\n",
            "\n",
            "\n",
            "\n",
            " 74%|███████▍  | 37/50 [20:04<07:03, 32.58s/it]\u001b[A\u001b[A\u001b[A\u001b[A\u001b[A\u001b[A\u001b[A\n",
            "\n",
            "\n",
            "\n",
            "\n",
            "\n",
            "\n",
            " 76%|███████▌  | 38/50 [20:36<06:30, 32.57s/it]\u001b[A\u001b[A\u001b[A\u001b[A\u001b[A\u001b[A\u001b[A\n",
            "\n",
            "\n",
            "\n",
            "\n",
            "\n",
            "\n",
            " 78%|███████▊  | 39/50 [21:09<05:57, 32.50s/it]\u001b[A\u001b[A\u001b[A\u001b[A\u001b[A\u001b[A\u001b[A\n",
            "\n",
            "\n",
            "\n",
            "\n",
            "\n",
            "\n",
            " 80%|████████  | 40/50 [21:41<05:24, 32.50s/it]\u001b[A\u001b[A\u001b[A\u001b[A\u001b[A\u001b[A\u001b[A\n",
            "\n",
            "\n",
            "\n",
            "\n",
            "\n",
            "\n",
            " 82%|████████▏ | 41/50 [22:14<04:52, 32.50s/it]\u001b[A\u001b[A\u001b[A\u001b[A\u001b[A\u001b[A\u001b[A\n",
            "\n",
            "\n",
            "\n",
            "\n",
            "\n",
            "\n",
            " 84%|████████▍ | 42/50 [22:46<04:19, 32.47s/it]\u001b[A\u001b[A\u001b[A\u001b[A\u001b[A\u001b[A\u001b[A\n",
            "\n",
            "\n",
            "\n",
            "\n",
            "\n",
            "\n",
            " 86%|████████▌ | 43/50 [23:19<03:47, 32.43s/it]\u001b[A\u001b[A\u001b[A\u001b[A\u001b[A\u001b[A\u001b[A\n",
            "\n",
            "\n",
            "\n",
            "\n",
            "\n",
            "\n",
            " 88%|████████▊ | 44/50 [23:51<03:14, 32.39s/it]\u001b[A\u001b[A\u001b[A\u001b[A\u001b[A\u001b[A\u001b[A\n",
            "\n",
            "\n",
            "\n",
            "\n",
            "\n",
            "\n",
            " 90%|█████████ | 45/50 [24:24<02:43, 32.70s/it]\u001b[A\u001b[A\u001b[A\u001b[A\u001b[A\u001b[A\u001b[A\n",
            "\n",
            "\n",
            "\n",
            "\n",
            "\n",
            "\n",
            " 92%|█████████▏| 46/50 [24:56<02:10, 32.53s/it]\u001b[A\u001b[A\u001b[A\u001b[A\u001b[A\u001b[A\u001b[A\n",
            "\n",
            "\n",
            "\n",
            "\n",
            "\n",
            "\n",
            " 94%|█████████▍| 47/50 [25:29<01:37, 32.60s/it]\u001b[A\u001b[A\u001b[A\u001b[A\u001b[A\u001b[A\u001b[A\n",
            "\n",
            "\n",
            "\n",
            "\n",
            "\n",
            "\n",
            " 96%|█████████▌| 48/50 [26:02<01:05, 32.56s/it]\u001b[A\u001b[A\u001b[A\u001b[A\u001b[A\u001b[A\u001b[A\n",
            "\n",
            "\n",
            "\n",
            "\n",
            "\n",
            "\n",
            " 98%|█████████▊| 49/50 [26:34<00:32, 32.51s/it]\u001b[A\u001b[A\u001b[A\u001b[A\u001b[A\u001b[A\u001b[A\n",
            "\n",
            "\n",
            "\n",
            "\n",
            "\n",
            "\n",
            "100%|██████████| 50/50 [27:07<00:00, 32.52s/it]\u001b[A\u001b[A\u001b[A\u001b[A\u001b[A\u001b[A\u001b[A\n",
            "\n",
            "\n",
            "\n",
            "\n",
            "\n",
            "\n",
            "\u001b[A\u001b[A\u001b[A\u001b[A\u001b[A\u001b[A\u001b[A"
          ],
          "name": "stderr"
        }
      ]
    },
    {
      "cell_type": "code",
      "metadata": {
        "id": "33k5pWPcUSQm",
        "colab_type": "code",
        "colab": {
          "base_uri": "https://localhost:8080/",
          "height": 353
        },
        "outputId": "8fa28247-f1df-42d4-b8ca-eb9b8906fe2d"
      },
      "source": [
        "top = np.argsort(n_kw, axis=1)[:, -10:]\n",
        "for i in range(20):\n",
        "    docs1 = np.zeros((1, X_train.shape[1]))\n",
        "    for j in top[i]:\n",
        "        docs1[0, j] = 1\n",
        "    print('Tags {}:\\t{}'.format(i, '\\t'.join(vectorizer.inverse_transform(docs1)[0])))"
      ],
      "execution_count": 43,
      "outputs": [
        {
          "output_type": "stream",
          "text": [
            "Tags 0:\tagree\targument\tcertainly\tclaim\tdiscussion\timportant\tmaking\tsaying\tsimply\tunderstand\n",
            "Tags 1:\tchildren\tcountry\thistory\tisrael\tisraeli\tjews\tkilled\tland\tpopulation\twar\n",
            "Tags 2:\tapplication\tcode\tfile\tfiles\tftp\timage\trunning\tuser\tversion\twindow\n",
            "Tags 3:\tbible\tchrist\tchristian\tchristians\tchurch\tfaith\tjesus\tman\treligion\tword\n",
            "Tags 4:\tblack\tbtw\tcompany\tfolks\tjob\tnews\trecall\tsorry\tvalue\tworks\n",
            "Tags 5:\tbtw\tguess\tok\tsmall\tsorry\tsource\tstuff\tthank\twonder\twouldn\n",
            "Tags 6:\tarticle\tcommon\tdeleted\tfault\tgoes\tsimple\tsorry\tstuff\ttried\twondering\n",
            "Tags 7:\t1993\tapr\tarticle\tmessage\tnet\tnews\tnewsgroup\tposted\tposting\tsubject\n",
            "Tags 8:\tboard\tcard\tcomputer\tdisk\tmac\tmemory\tmonitor\tpc\tspeed\tvideo\n",
            "Tags 9:\tasking\tbuy\tcar\tcondition\toffer\tpay\tprice\tsale\tsell\tshipping\n",
            "Tags 10:\tcause\tcommon\tdisease\texperience\tlow\tmedical\tresults\tsimilar\tsmall\tusually\n",
            "Tags 11:\tadvance\tanybody\tappreciate\tappreciated\thear\thi\tinfo\tnice\tok\twondering\n",
            "Tags 12:\tdifference\tleft\tlove\tmajor\tnice\tsounds\tspace\tstuff\ttype\tunless\n",
            "Tags 13:\tchip\tclinton\tclipper\tencryption\tfederal\tgun\tkey\tlaw\tlegal\tpublic\n",
            "Tags 14:\tcame\tdays\thappened\tsaw\tstarted\ttold\ttook\twanted\twasn\twent\n",
            "Tags 15:\tgame\tgames\thockey\tleague\tplay\tplayer\tplayers\tseason\tteam\twin\n",
            "Tags 16:\tbanks\tgeb\tgordon\tintellect\tn3jxp\tpitt\tshameful\tskepticism\tsoon\tsurrender\n",
            "Tags 17:\t1993\taddress\tapril\tcenter\tfax\tnasa\tresearch\tspace\tsystems\tuniversity\n",
            "Tags 18:\tbike\tdod\tguess\tleft\toh\tride\troad\tspeed\tstuff\tturn\n",
            "Tags 19:\t11\t12\t13\t14\t16\t17\t18\t23\t24\t25\n"
          ],
          "name": "stdout"
        }
      ]
    },
    {
      "cell_type": "code",
      "metadata": {
        "id": "vL81g6_7b8H8",
        "colab_type": "code",
        "colab": {}
      },
      "source": [
        ""
      ],
      "execution_count": 0,
      "outputs": []
    }
  ]
}